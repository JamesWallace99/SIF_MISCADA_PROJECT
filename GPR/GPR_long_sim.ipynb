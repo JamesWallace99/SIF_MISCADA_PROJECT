{
 "cells": [
  {
   "cell_type": "code",
   "execution_count": 1,
   "metadata": {},
   "outputs": [],
   "source": [
    "import pandas as pd\n",
    "import numpy as np"
   ]
  },
  {
   "cell_type": "code",
   "execution_count": 2,
   "metadata": {},
   "outputs": [],
   "source": [
    "df = pd.read_csv(r'/Users/jameswallace/Desktop/SCOPE_GPR/GPR_data.csv', index_col=0)"
   ]
  },
  {
   "cell_type": "markdown",
   "metadata": {},
   "source": [
    "# Take a random subsection of the df to test timings"
   ]
  },
  {
   "cell_type": "code",
   "execution_count": 3,
   "metadata": {},
   "outputs": [],
   "source": [
    "np.random.seed(seed = 0) # always sample the same points for repeatability\n",
    "sampl = np.random.randint(low=0, high = len(df), size = (200,)) # for now only use 2000 data-points\n",
    "sample_df = df.iloc[sampl]"
   ]
  },
  {
   "cell_type": "markdown",
   "metadata": {},
   "source": [
    "# get a list and dictionary of the combinations of SVIs and O2A SIF"
   ]
  },
  {
   "cell_type": "code",
   "execution_count": 4,
   "metadata": {},
   "outputs": [],
   "source": [
    "iterable = ['simple_ratio', 'NDVI', 'EVI', 'NDVIre', 'PRI', 'O2A_SIF'] # define list of variables\n",
    "\n",
    "\n",
    "# define function to return list of the powerset of the list of variables\n",
    "def powerset(s):\n",
    "    x = len(s)\n",
    "    test = []\n",
    "    for i in range(1, 1 << x):\n",
    "        #print([s[j] for j in range(x) if (i & (1 << j))])\n",
    "        test.append(([s[j] for j in range(x) if (i & (1 << j))]))\n",
    "    return(test)\n",
    "\n",
    "powerset_list = powerset(iterable) # get powerset, will be used for slicing while iterating datasets in model fitting\n",
    "\n",
    "# convert to strings for dict initialisation\n",
    "powerset_strings = []\n",
    "for i in powerset_list:\n",
    "    temp = \"+\".join(i)\n",
    "    powerset_strings.append(temp)\n",
    "    \n",
    "results = dict.fromkeys(powerset_strings) # create dict to store results, key is the combination of variables\n"
   ]
  },
  {
   "cell_type": "markdown",
   "metadata": {},
   "source": [
    "# Import SKLearn libraries"
   ]
  },
  {
   "cell_type": "code",
   "execution_count": 5,
   "metadata": {},
   "outputs": [],
   "source": [
    "# import the relevant SKlearn libraries\n",
    "\n",
    "from sklearn.model_selection import GridSearchCV\n",
    "from sklearn.model_selection import RepeatedKFold\n",
    "from sklearn.gaussian_process import GaussianProcessRegressor\n",
    "from sklearn.gaussian_process.kernels import RBF\n",
    "from sklearn.gaussian_process.kernels import DotProduct\n",
    "from sklearn.gaussian_process.kernels import Matern\n",
    "from sklearn.gaussian_process.kernels import RationalQuadratic\n",
    "from sklearn.gaussian_process.kernels import WhiteKernel\n",
    "from sklearn.metrics import make_scorer\n",
    "from sklearn.metrics import mean_squared_error\n",
    "from sklearn.metrics import mean_absolute_error\n",
    "from sklearn.preprocessing import StandardScaler\n",
    "from sklearn.model_selection import train_test_split\n"
   ]
  },
  {
   "cell_type": "markdown",
   "metadata": {},
   "source": [
    "# Define the features"
   ]
  },
  {
   "cell_type": "code",
   "execution_count": 6,
   "metadata": {},
   "outputs": [
    {
     "data": {
      "text/plain": [
       "['simple_ratio', 'NDVI', 'EVI', 'NDVIre', 'PRI', 'O2A_SIF']"
      ]
     },
     "execution_count": 6,
     "metadata": {},
     "output_type": "execute_result"
    }
   ],
   "source": [
    "# define the datasets\n",
    "\n",
    "X = np.asarray(sample_df[powerset_list[-1]]) # features\n",
    "y = np.asarray(sample_df['O2B_SIF']) # target\n",
    "powerset_list[-1]"
   ]
  },
  {
   "cell_type": "markdown",
   "metadata": {},
   "source": [
    "# define model, hyper-parameter search, pre-processing and fit"
   ]
  },
  {
   "cell_type": "code",
   "execution_count": 7,
   "metadata": {},
   "outputs": [
    {
     "name": "stdout",
     "output_type": "stream",
     "text": [
      "CPU times: user 394 ms, sys: 79.8 ms, total: 474 ms\n",
      "Wall time: 1.92 s\n"
     ]
    }
   ],
   "source": [
    "%%time\n",
    "# model definition and evaluation\n",
    "model = GaussianProcessRegressor(optimizer = 'fmin_l_bfgs_b', n_restarts_optimizer = 1) # define the model\n",
    "cv = RepeatedKFold(n_splits=5, n_repeats=1, random_state=42) # define the model evaluation method\n",
    "\n",
    "# hyper-parameter search and scoring statistics\n",
    "grid = dict() # define the grid of parameters to serach over\n",
    "grid['kernel'] = [1*RBF(), 1*DotProduct(), 1*Matern(), 1*RationalQuadratic(), 1*WhiteKernel()]\n",
    "#grid['alpha'] = np.logspace(1e-4, 100, 100)\n",
    "scoring = {'rsquared': 'r2', 'RMSE': make_scorer(mean_squared_error), 'mae': make_scorer(mean_absolute_error)}\n",
    "search = GridSearchCV(model, grid, scoring = scoring, refit = 'rsquared', cv=cv, n_jobs = -1) # define the search function\n",
    "\n",
    "# apply scalar to features to pre-process the data\n",
    "scaler = StandardScaler()\n",
    "scaled_data_X = scaler.fit_transform(X) # fit standard scalar to the features\n",
    "\n",
    "results = search.fit(scaled_data_X, y) # fit the model"
   ]
  },
  {
   "cell_type": "markdown",
   "metadata": {},
   "source": [
    "# get the results"
   ]
  },
  {
   "cell_type": "code",
   "execution_count": 8,
   "metadata": {},
   "outputs": [
    {
     "name": "stdout",
     "output_type": "stream",
     "text": [
      "Best Score: 0.9805540100385948\n",
      "Best Hyperparameters: {'kernel': 1**2 * Matern(length_scale=1, nu=1.5)}\n"
     ]
    }
   ],
   "source": [
    "print('Best Score: %s' % results.best_score_)\n",
    "print('Best Hyperparameters: %s' % results.best_params_)"
   ]
  },
  {
   "cell_type": "markdown",
   "metadata": {},
   "source": [
    "# Start Actual Function"
   ]
  },
  {
   "cell_type": "markdown",
   "metadata": {},
   "source": [
    "# Get the data ready with train-test split"
   ]
  },
  {
   "cell_type": "code",
   "execution_count": 9,
   "metadata": {},
   "outputs": [],
   "source": [
    "# get a subsection of the data\n",
    "np.random.seed(seed = 42) # always sample the same points for repeatability\n",
    "sampl = np.random.randint(low=0, high = len(df), size = (300,)) # for now only use 2000 data-points\n",
    "sample_df = df.iloc[sampl]"
   ]
  },
  {
   "cell_type": "code",
   "execution_count": 10,
   "metadata": {},
   "outputs": [],
   "source": [
    "# now perform the train-test split on the subsection of this data\n",
    "\n",
    "train_df, test_df = train_test_split(sample_df, test_size=0.2, random_state = 42)"
   ]
  },
  {
   "cell_type": "markdown",
   "metadata": {},
   "source": [
    "# function to find best params of feature set using gridsearch and cross validation"
   ]
  },
  {
   "cell_type": "code",
   "execution_count": 11,
   "metadata": {},
   "outputs": [],
   "source": [
    "def get_best_params(features, predictors):\n",
    "    model = GaussianProcessRegressor(optimizer = 'fmin_l_bfgs_b') # define the model\n",
    "    cv = RepeatedKFold(n_splits=5, n_repeats=1, random_state=42) # define the model evaluation method\n",
    "\n",
    "    # hyper-parameter search and scoring statistics\n",
    "    grid = dict() # define the grid of parameters to serach over\n",
    "    grid['kernel'] = [1*RBF(), 1*DotProduct(), 1*Matern(), 1*RationalQuadratic(), 1*WhiteKernel()]\n",
    "    #grid['alpha'] = np.logspace(1e-4, 100, 100)\n",
    "    scoring = {'rsquared': 'r2', 'RMSE': make_scorer(mean_squared_error), 'mae': make_scorer(mean_absolute_error)}\n",
    "    search = GridSearchCV(model, grid, scoring = scoring, refit = 'rsquared', cv=cv, n_jobs = -1) # define the search function\n",
    "\n",
    "    # apply scalar to features to pre-process the data\n",
    "    scaler = StandardScaler()\n",
    "    scaled_data_X = scaler.fit_transform(features) # fit standard scalar to the features\n",
    "\n",
    "    results = search.fit(scaled_data_X, predictors) # fit the model\n",
    "    \n",
    "    return(results.best_params_)"
   ]
  },
  {
   "cell_type": "code",
   "execution_count": 12,
   "metadata": {},
   "outputs": [],
   "source": [
    "test_params = get_best_params(X, y) # test the get_best_params function"
   ]
  },
  {
   "cell_type": "code",
   "execution_count": 13,
   "metadata": {},
   "outputs": [],
   "source": [
    "model = GaussianProcessRegressor(kernel= test_params['kernel'])"
   ]
  },
  {
   "cell_type": "code",
   "execution_count": 14,
   "metadata": {},
   "outputs": [
    {
     "data": {
      "text/plain": [
       "GaussianProcessRegressor(kernel=1**2 * Matern(length_scale=1, nu=1.5))"
      ]
     },
     "execution_count": 14,
     "metadata": {},
     "output_type": "execute_result"
    }
   ],
   "source": [
    "model.fit(X, y)"
   ]
  },
  {
   "cell_type": "markdown",
   "metadata": {},
   "source": [
    "# Create a df to store best params and stats for feature sets"
   ]
  },
  {
   "cell_type": "code",
   "execution_count": 15,
   "metadata": {},
   "outputs": [
    {
     "data": {
      "text/html": [
       "<div>\n",
       "<style scoped>\n",
       "    .dataframe tbody tr th:only-of-type {\n",
       "        vertical-align: middle;\n",
       "    }\n",
       "\n",
       "    .dataframe tbody tr th {\n",
       "        vertical-align: top;\n",
       "    }\n",
       "\n",
       "    .dataframe thead th {\n",
       "        text-align: right;\n",
       "    }\n",
       "</style>\n",
       "<table border=\"1\" class=\"dataframe\">\n",
       "  <thead>\n",
       "    <tr style=\"text-align: right;\">\n",
       "      <th></th>\n",
       "      <th>features</th>\n",
       "      <th>best_params_</th>\n",
       "      <th>r2</th>\n",
       "      <th>rmse</th>\n",
       "      <th>mae</th>\n",
       "      <th>fit_time</th>\n",
       "    </tr>\n",
       "  </thead>\n",
       "  <tbody>\n",
       "    <tr>\n",
       "      <th>0</th>\n",
       "      <td>[simple_ratio]</td>\n",
       "      <td>None</td>\n",
       "      <td>None</td>\n",
       "      <td>None</td>\n",
       "      <td>None</td>\n",
       "      <td>None</td>\n",
       "    </tr>\n",
       "    <tr>\n",
       "      <th>1</th>\n",
       "      <td>[NDVI]</td>\n",
       "      <td>None</td>\n",
       "      <td>None</td>\n",
       "      <td>None</td>\n",
       "      <td>None</td>\n",
       "      <td>None</td>\n",
       "    </tr>\n",
       "    <tr>\n",
       "      <th>2</th>\n",
       "      <td>[simple_ratio, NDVI]</td>\n",
       "      <td>None</td>\n",
       "      <td>None</td>\n",
       "      <td>None</td>\n",
       "      <td>None</td>\n",
       "      <td>None</td>\n",
       "    </tr>\n",
       "    <tr>\n",
       "      <th>3</th>\n",
       "      <td>[EVI]</td>\n",
       "      <td>None</td>\n",
       "      <td>None</td>\n",
       "      <td>None</td>\n",
       "      <td>None</td>\n",
       "      <td>None</td>\n",
       "    </tr>\n",
       "    <tr>\n",
       "      <th>4</th>\n",
       "      <td>[simple_ratio, EVI]</td>\n",
       "      <td>None</td>\n",
       "      <td>None</td>\n",
       "      <td>None</td>\n",
       "      <td>None</td>\n",
       "      <td>None</td>\n",
       "    </tr>\n",
       "  </tbody>\n",
       "</table>\n",
       "</div>"
      ],
      "text/plain": [
       "               features best_params_    r2  rmse   mae fit_time\n",
       "0        [simple_ratio]         None  None  None  None     None\n",
       "1                [NDVI]         None  None  None  None     None\n",
       "2  [simple_ratio, NDVI]         None  None  None  None     None\n",
       "3                 [EVI]         None  None  None  None     None\n",
       "4   [simple_ratio, EVI]         None  None  None  None     None"
      ]
     },
     "execution_count": 15,
     "metadata": {},
     "output_type": "execute_result"
    }
   ],
   "source": [
    "d = {'features': powerset_list, 'best_params_': None, 'r2': None, 'rmse': None, 'mae': None, 'fit_time': None}\n",
    "scores_df = pd.DataFrame(data=d)\n",
    "scores_df.head()"
   ]
  },
  {
   "cell_type": "markdown",
   "metadata": {},
   "source": [
    "#  test all feature sets and populate the best_params column in scores_df"
   ]
  },
  {
   "cell_type": "code",
   "execution_count": 16,
   "metadata": {},
   "outputs": [
    {
     "name": "stdout",
     "output_type": "stream",
     "text": [
      "1\n"
     ]
    }
   ],
   "source": [
    "from IPython.display import clear_output\n",
    "\n",
    "y = np.asarray(train_df['O2B_SIF']) # target\n",
    "for i in range(len(scores_df)):\n",
    "    \n",
    "    feature_set = scores_df['features'].iloc[i] # get the feature set list\n",
    "    \n",
    "    X = train_df[feature_set] # get features from training set\n",
    "    \n",
    "    scores_df['best_params_'].iloc[i] = get_best_params(X, y)['kernel'] # get best params for that feature set\n",
    "    \n",
    "    clear_output(wait=True)\n",
    "    \n",
    "    print(len(scores_df) - i)\n",
    "    \n",
    "    scores_df.to_csv('scores')"
   ]
  },
  {
   "cell_type": "code",
   "execution_count": 17,
   "metadata": {},
   "outputs": [
    {
     "data": {
      "text/html": [
       "<div>\n",
       "<style scoped>\n",
       "    .dataframe tbody tr th:only-of-type {\n",
       "        vertical-align: middle;\n",
       "    }\n",
       "\n",
       "    .dataframe tbody tr th {\n",
       "        vertical-align: top;\n",
       "    }\n",
       "\n",
       "    .dataframe thead th {\n",
       "        text-align: right;\n",
       "    }\n",
       "</style>\n",
       "<table border=\"1\" class=\"dataframe\">\n",
       "  <thead>\n",
       "    <tr style=\"text-align: right;\">\n",
       "      <th></th>\n",
       "      <th>features</th>\n",
       "      <th>best_params_</th>\n",
       "      <th>r2</th>\n",
       "      <th>rmse</th>\n",
       "      <th>mae</th>\n",
       "      <th>fit_time</th>\n",
       "    </tr>\n",
       "  </thead>\n",
       "  <tbody>\n",
       "    <tr>\n",
       "      <th>0</th>\n",
       "      <td>[simple_ratio]</td>\n",
       "      <td>1**2 * RationalQuadratic(alpha=1, length_scale=1)</td>\n",
       "      <td>None</td>\n",
       "      <td>None</td>\n",
       "      <td>None</td>\n",
       "      <td>None</td>\n",
       "    </tr>\n",
       "    <tr>\n",
       "      <th>1</th>\n",
       "      <td>[NDVI]</td>\n",
       "      <td>1**2 * RationalQuadratic(alpha=1, length_scale=1)</td>\n",
       "      <td>None</td>\n",
       "      <td>None</td>\n",
       "      <td>None</td>\n",
       "      <td>None</td>\n",
       "    </tr>\n",
       "    <tr>\n",
       "      <th>2</th>\n",
       "      <td>[simple_ratio, NDVI]</td>\n",
       "      <td>1**2 * RationalQuadratic(alpha=1, length_scale=1)</td>\n",
       "      <td>None</td>\n",
       "      <td>None</td>\n",
       "      <td>None</td>\n",
       "      <td>None</td>\n",
       "    </tr>\n",
       "    <tr>\n",
       "      <th>3</th>\n",
       "      <td>[EVI]</td>\n",
       "      <td>1**2 * DotProduct(sigma_0=1)</td>\n",
       "      <td>None</td>\n",
       "      <td>None</td>\n",
       "      <td>None</td>\n",
       "      <td>None</td>\n",
       "    </tr>\n",
       "    <tr>\n",
       "      <th>4</th>\n",
       "      <td>[simple_ratio, EVI]</td>\n",
       "      <td>1**2 * RationalQuadratic(alpha=1, length_scale=1)</td>\n",
       "      <td>None</td>\n",
       "      <td>None</td>\n",
       "      <td>None</td>\n",
       "      <td>None</td>\n",
       "    </tr>\n",
       "  </tbody>\n",
       "</table>\n",
       "</div>"
      ],
      "text/plain": [
       "               features                                       best_params_  \\\n",
       "0        [simple_ratio]  1**2 * RationalQuadratic(alpha=1, length_scale=1)   \n",
       "1                [NDVI]  1**2 * RationalQuadratic(alpha=1, length_scale=1)   \n",
       "2  [simple_ratio, NDVI]  1**2 * RationalQuadratic(alpha=1, length_scale=1)   \n",
       "3                 [EVI]                       1**2 * DotProduct(sigma_0=1)   \n",
       "4   [simple_ratio, EVI]  1**2 * RationalQuadratic(alpha=1, length_scale=1)   \n",
       "\n",
       "     r2  rmse   mae fit_time  \n",
       "0  None  None  None     None  \n",
       "1  None  None  None     None  \n",
       "2  None  None  None     None  \n",
       "3  None  None  None     None  \n",
       "4  None  None  None     None  "
      ]
     },
     "execution_count": 17,
     "metadata": {},
     "output_type": "execute_result"
    }
   ],
   "source": [
    "scores_df.head()"
   ]
  },
  {
   "cell_type": "markdown",
   "metadata": {
    "collapsed": true
   },
   "source": [
    "# get final validation scores on test_df"
   ]
  },
  {
   "cell_type": "code",
   "execution_count": 18,
   "metadata": {},
   "outputs": [],
   "source": [
    "from sklearn.model_selection import cross_validate\n",
    "def validate_scores(features, predictors, best_params):\n",
    "    model = GaussianProcessRegressor(kernel=best_params, optimizer = 'fmin_l_bfgs_b') # define the model\n",
    "\n",
    "    # define scoring metrics\n",
    "    scoring = {'rsquared': 'r2', 'RMSE': make_scorer(mean_squared_error), 'mae': make_scorer(mean_absolute_error)}\n",
    "    \n",
    "    # apply scalar to features to pre-process the data\n",
    "    scaler = StandardScaler()\n",
    "    scaled_data_X = scaler.fit_transform(features) # fit standard scalar to the features\n",
    "    \n",
    "    # run the cross validation\n",
    "    scores = cross_validate(model, scaled_data_X, predictors, scoring=scoring,\n",
    "                        cv=5, return_train_score=False)\n",
    "\n",
    "    return(scores)"
   ]
  },
  {
   "cell_type": "code",
   "execution_count": 19,
   "metadata": {},
   "outputs": [],
   "source": [
    "# run function over each feature set and populate df with score array\n",
    "test_predictors = test_df['O2B_SIF']"
   ]
  },
  {
   "cell_type": "code",
   "execution_count": 20,
   "metadata": {},
   "outputs": [
    {
     "name": "stdout",
     "output_type": "stream",
     "text": [
      "1\n"
     ]
    }
   ],
   "source": [
    "for i in range(len(scores_df)):\n",
    "    test_features_name = scores_df['features'].iloc[i] # get feature set\n",
    "    test_features_best_params = scores_df['best_params_'].iloc[i] # get best params\n",
    "    \n",
    "    # get validation scores\n",
    "    temp_scores = validate_scores(test_df[test_features_name], test_predictors, test_features_best_params)\n",
    "    \n",
    "    # store them in scores_df\n",
    "    scores_df['r2'].iloc[i] = temp_scores['test_rsquared']\n",
    "    scores_df['rmse'].iloc[i] = temp_scores['test_RMSE']\n",
    "    scores_df['mae'].iloc[i] = temp_scores['test_mae']\n",
    "    scores_df['fit_time'].iloc[i] = temp_scores['fit_time']\n",
    "    \n",
    "    clear_output(wait=True)\n",
    "    \n",
    "    print(len(scores_df) - i)\n",
    "    scores_df.to_csv('scores')"
   ]
  },
  {
   "cell_type": "code",
   "execution_count": 21,
   "metadata": {},
   "outputs": [
    {
     "data": {
      "text/html": [
       "<div>\n",
       "<style scoped>\n",
       "    .dataframe tbody tr th:only-of-type {\n",
       "        vertical-align: middle;\n",
       "    }\n",
       "\n",
       "    .dataframe tbody tr th {\n",
       "        vertical-align: top;\n",
       "    }\n",
       "\n",
       "    .dataframe thead th {\n",
       "        text-align: right;\n",
       "    }\n",
       "</style>\n",
       "<table border=\"1\" class=\"dataframe\">\n",
       "  <thead>\n",
       "    <tr style=\"text-align: right;\">\n",
       "      <th></th>\n",
       "      <th>features</th>\n",
       "      <th>best_params_</th>\n",
       "      <th>r2</th>\n",
       "      <th>rmse</th>\n",
       "      <th>mae</th>\n",
       "      <th>fit_time</th>\n",
       "    </tr>\n",
       "  </thead>\n",
       "  <tbody>\n",
       "    <tr>\n",
       "      <th>0</th>\n",
       "      <td>[simple_ratio]</td>\n",
       "      <td>1**2 * RationalQuadratic(alpha=1, length_scale=1)</td>\n",
       "      <td>[0.014913523139998275, 0.1506213936389429, 0.0...</td>\n",
       "      <td>[0.13406144730612954, 0.22852378778621027, 0.1...</td>\n",
       "      <td>[0.29397187906419314, 0.438265018160547, 0.360...</td>\n",
       "      <td>[0.05030107498168945, 0.04558515548706055, 0.0...</td>\n",
       "    </tr>\n",
       "    <tr>\n",
       "      <th>1</th>\n",
       "      <td>[NDVI]</td>\n",
       "      <td>1**2 * RationalQuadratic(alpha=1, length_scale=1)</td>\n",
       "      <td>[0.024463539118447786, 0.15109815307452423, -0...</td>\n",
       "      <td>[0.13276177565907926, 0.22839551651675996, 0.2...</td>\n",
       "      <td>[0.29339025972688004, 0.4320253375089463, 0.35...</td>\n",
       "      <td>[0.04319500923156738, 0.036606788635253906, 0....</td>\n",
       "    </tr>\n",
       "    <tr>\n",
       "      <th>2</th>\n",
       "      <td>[simple_ratio, NDVI]</td>\n",
       "      <td>1**2 * RationalQuadratic(alpha=1, length_scale=1)</td>\n",
       "      <td>[0.013790528845742944, 0.14871384042933466, -0...</td>\n",
       "      <td>[0.13421427677231437, 0.2290370115495577, 0.19...</td>\n",
       "      <td>[0.2968772140133167, 0.43575858589182986, 0.36...</td>\n",
       "      <td>[0.034049034118652344, 0.049314022064208984, 0...</td>\n",
       "    </tr>\n",
       "    <tr>\n",
       "      <th>3</th>\n",
       "      <td>[EVI]</td>\n",
       "      <td>1**2 * DotProduct(sigma_0=1)</td>\n",
       "      <td>[-0.13598124436928005, 0.1092190561689167, -0....</td>\n",
       "      <td>[0.15459687378736295, 0.23966301228632847, 0.2...</td>\n",
       "      <td>[0.31939638565470374, 0.44962395722249343, 0.3...</td>\n",
       "      <td>[0.004282236099243164, 0.003660917282104492, 0...</td>\n",
       "    </tr>\n",
       "    <tr>\n",
       "      <th>4</th>\n",
       "      <td>[simple_ratio, EVI]</td>\n",
       "      <td>1**2 * RationalQuadratic(alpha=1, length_scale=1)</td>\n",
       "      <td>[-0.14525414213223575, 0.13456237472092003, 0....</td>\n",
       "      <td>[0.15585883212708776, 0.2328444379695244, 0.18...</td>\n",
       "      <td>[0.32250230445223615, 0.4387969251219121, 0.38...</td>\n",
       "      <td>[0.03831911087036133, 0.0315861701965332, 0.04...</td>\n",
       "    </tr>\n",
       "    <tr>\n",
       "      <th>...</th>\n",
       "      <td>...</td>\n",
       "      <td>...</td>\n",
       "      <td>...</td>\n",
       "      <td>...</td>\n",
       "      <td>...</td>\n",
       "      <td>...</td>\n",
       "    </tr>\n",
       "    <tr>\n",
       "      <th>58</th>\n",
       "      <td>[simple_ratio, NDVI, NDVIre, PRI, O2A_SIF]</td>\n",
       "      <td>1**2 * RationalQuadratic(alpha=1, length_scale=1)</td>\n",
       "      <td>[0.746977459324514, 0.6524723235037153, 0.6350...</td>\n",
       "      <td>[0.03443410177769643, 0.09350169688605535, 0.0...</td>\n",
       "      <td>[0.1355323864315898, 0.2710043494012545, 0.197...</td>\n",
       "      <td>[0.02596282958984375, 0.020821094512939453, 0....</td>\n",
       "    </tr>\n",
       "    <tr>\n",
       "      <th>59</th>\n",
       "      <td>[EVI, NDVIre, PRI, O2A_SIF]</td>\n",
       "      <td>1**2 * Matern(length_scale=1, nu=1.5)</td>\n",
       "      <td>[0.9024342661929288, 0.9114348116279067, 0.910...</td>\n",
       "      <td>[0.013277822596197732, 0.023828304788014162, 0...</td>\n",
       "      <td>[0.09074623338429687, 0.11022517912360652, 0.1...</td>\n",
       "      <td>[0.01856517791748047, 0.017457008361816406, 0....</td>\n",
       "    </tr>\n",
       "    <tr>\n",
       "      <th>60</th>\n",
       "      <td>[simple_ratio, EVI, NDVIre, PRI, O2A_SIF]</td>\n",
       "      <td>1**2 * Matern(length_scale=1, nu=1.5)</td>\n",
       "      <td>[0.9414781456885902, 0.9684004676118658, 0.982...</td>\n",
       "      <td>[0.007964300264311757, 0.008501797407574231, 0...</td>\n",
       "      <td>[0.06922318156684092, 0.06332751355171833, 0.0...</td>\n",
       "      <td>[0.016971111297607422, 0.0169680118560791, 0.0...</td>\n",
       "    </tr>\n",
       "    <tr>\n",
       "      <th>61</th>\n",
       "      <td>[NDVI, EVI, NDVIre, PRI, O2A_SIF]</td>\n",
       "      <td>1**2 * Matern(length_scale=1, nu=1.5)</td>\n",
       "      <td>[0.948584895625844, 0.9776774897779864, 0.9809...</td>\n",
       "      <td>[0.006997135244172723, 0.006005831263735051, 0...</td>\n",
       "      <td>[0.06300778863730033, 0.05278999871437235, 0.0...</td>\n",
       "      <td>[0.0161130428314209, 0.017303943634033203, 0.0...</td>\n",
       "    </tr>\n",
       "    <tr>\n",
       "      <th>62</th>\n",
       "      <td>[simple_ratio, NDVI, EVI, NDVIre, PRI, O2A_SIF]</td>\n",
       "      <td>1**2 * Matern(length_scale=1, nu=1.5)</td>\n",
       "      <td>[0.9404236939732243, 0.9740935077665509, 0.976...</td>\n",
       "      <td>[0.008107801699360363, 0.006970095183825729, 0...</td>\n",
       "      <td>[0.06723409729852171, 0.05693038997322428, 0.0...</td>\n",
       "      <td>[0.016218900680541992, 0.016057729721069336, 0...</td>\n",
       "    </tr>\n",
       "  </tbody>\n",
       "</table>\n",
       "<p>63 rows × 6 columns</p>\n",
       "</div>"
      ],
      "text/plain": [
       "                                           features  \\\n",
       "0                                    [simple_ratio]   \n",
       "1                                            [NDVI]   \n",
       "2                              [simple_ratio, NDVI]   \n",
       "3                                             [EVI]   \n",
       "4                               [simple_ratio, EVI]   \n",
       "..                                              ...   \n",
       "58       [simple_ratio, NDVI, NDVIre, PRI, O2A_SIF]   \n",
       "59                      [EVI, NDVIre, PRI, O2A_SIF]   \n",
       "60        [simple_ratio, EVI, NDVIre, PRI, O2A_SIF]   \n",
       "61                [NDVI, EVI, NDVIre, PRI, O2A_SIF]   \n",
       "62  [simple_ratio, NDVI, EVI, NDVIre, PRI, O2A_SIF]   \n",
       "\n",
       "                                         best_params_  \\\n",
       "0   1**2 * RationalQuadratic(alpha=1, length_scale=1)   \n",
       "1   1**2 * RationalQuadratic(alpha=1, length_scale=1)   \n",
       "2   1**2 * RationalQuadratic(alpha=1, length_scale=1)   \n",
       "3                        1**2 * DotProduct(sigma_0=1)   \n",
       "4   1**2 * RationalQuadratic(alpha=1, length_scale=1)   \n",
       "..                                                ...   \n",
       "58  1**2 * RationalQuadratic(alpha=1, length_scale=1)   \n",
       "59              1**2 * Matern(length_scale=1, nu=1.5)   \n",
       "60              1**2 * Matern(length_scale=1, nu=1.5)   \n",
       "61              1**2 * Matern(length_scale=1, nu=1.5)   \n",
       "62              1**2 * Matern(length_scale=1, nu=1.5)   \n",
       "\n",
       "                                                   r2  \\\n",
       "0   [0.014913523139998275, 0.1506213936389429, 0.0...   \n",
       "1   [0.024463539118447786, 0.15109815307452423, -0...   \n",
       "2   [0.013790528845742944, 0.14871384042933466, -0...   \n",
       "3   [-0.13598124436928005, 0.1092190561689167, -0....   \n",
       "4   [-0.14525414213223575, 0.13456237472092003, 0....   \n",
       "..                                                ...   \n",
       "58  [0.746977459324514, 0.6524723235037153, 0.6350...   \n",
       "59  [0.9024342661929288, 0.9114348116279067, 0.910...   \n",
       "60  [0.9414781456885902, 0.9684004676118658, 0.982...   \n",
       "61  [0.948584895625844, 0.9776774897779864, 0.9809...   \n",
       "62  [0.9404236939732243, 0.9740935077665509, 0.976...   \n",
       "\n",
       "                                                 rmse  \\\n",
       "0   [0.13406144730612954, 0.22852378778621027, 0.1...   \n",
       "1   [0.13276177565907926, 0.22839551651675996, 0.2...   \n",
       "2   [0.13421427677231437, 0.2290370115495577, 0.19...   \n",
       "3   [0.15459687378736295, 0.23966301228632847, 0.2...   \n",
       "4   [0.15585883212708776, 0.2328444379695244, 0.18...   \n",
       "..                                                ...   \n",
       "58  [0.03443410177769643, 0.09350169688605535, 0.0...   \n",
       "59  [0.013277822596197732, 0.023828304788014162, 0...   \n",
       "60  [0.007964300264311757, 0.008501797407574231, 0...   \n",
       "61  [0.006997135244172723, 0.006005831263735051, 0...   \n",
       "62  [0.008107801699360363, 0.006970095183825729, 0...   \n",
       "\n",
       "                                                  mae  \\\n",
       "0   [0.29397187906419314, 0.438265018160547, 0.360...   \n",
       "1   [0.29339025972688004, 0.4320253375089463, 0.35...   \n",
       "2   [0.2968772140133167, 0.43575858589182986, 0.36...   \n",
       "3   [0.31939638565470374, 0.44962395722249343, 0.3...   \n",
       "4   [0.32250230445223615, 0.4387969251219121, 0.38...   \n",
       "..                                                ...   \n",
       "58  [0.1355323864315898, 0.2710043494012545, 0.197...   \n",
       "59  [0.09074623338429687, 0.11022517912360652, 0.1...   \n",
       "60  [0.06922318156684092, 0.06332751355171833, 0.0...   \n",
       "61  [0.06300778863730033, 0.05278999871437235, 0.0...   \n",
       "62  [0.06723409729852171, 0.05693038997322428, 0.0...   \n",
       "\n",
       "                                             fit_time  \n",
       "0   [0.05030107498168945, 0.04558515548706055, 0.0...  \n",
       "1   [0.04319500923156738, 0.036606788635253906, 0....  \n",
       "2   [0.034049034118652344, 0.049314022064208984, 0...  \n",
       "3   [0.004282236099243164, 0.003660917282104492, 0...  \n",
       "4   [0.03831911087036133, 0.0315861701965332, 0.04...  \n",
       "..                                                ...  \n",
       "58  [0.02596282958984375, 0.020821094512939453, 0....  \n",
       "59  [0.01856517791748047, 0.017457008361816406, 0....  \n",
       "60  [0.016971111297607422, 0.0169680118560791, 0.0...  \n",
       "61  [0.0161130428314209, 0.017303943634033203, 0.0...  \n",
       "62  [0.016218900680541992, 0.016057729721069336, 0...  \n",
       "\n",
       "[63 rows x 6 columns]"
      ]
     },
     "execution_count": 21,
     "metadata": {},
     "output_type": "execute_result"
    }
   ],
   "source": [
    "scores_df"
   ]
  },
  {
   "cell_type": "code",
   "execution_count": 22,
   "metadata": {},
   "outputs": [
    {
     "data": {
      "text/plain": [
       "Text(0, 0.5, 'Cross-Validated R$^2$ Score')"
      ]
     },
     "execution_count": 22,
     "metadata": {},
     "output_type": "execute_result"
    },
    {
     "data": {
      "image/png": "[encoded data removed]",
      "text/plain": [
       "<Figure size 1440x720 with 1 Axes>"
      ]
     },
     "metadata": {
      "needs_background": "light"
     },
     "output_type": "display_data"
    }
   ],
   "source": [
    "import matplotlib.pyplot as plt\n",
    "fig, ax = plt.subplots(figsize = (20, 10))\n",
    "ax.boxplot(scores_df['r2'], showfliers = False)\n",
    "ax.set_xticks(range(1, len(scores_df) + 1))\n",
    "ax.set_xticklabels(np.asarray(scores_df['features']), rotation = 90)\n",
    "ax.set_ylim(-0.3, 1)\n",
    "ax.set_ylabel(r'Cross-Validated R$^2$ Score')"
   ]
  },
  {
   "cell_type": "code",
   "execution_count": null,
   "metadata": {},
   "outputs": [],
   "source": []
  }
 ],
 "metadata": {
  "kernelspec": {
   "display_name": "Python 3",
   "language": "python",
   "name": "python3"
  },
  "language_info": {
   "codemirror_mode": {
    "name": "ipython",
    "version": 3
   },
   "file_extension": ".py",
   "mimetype": "text/x-python",
   "name": "python",
   "nbconvert_exporter": "python",
   "pygments_lexer": "ipython3",
   "version": "3.8.5"
  }
 },
 "nbformat": 4,
 "nbformat_minor": 2
}
