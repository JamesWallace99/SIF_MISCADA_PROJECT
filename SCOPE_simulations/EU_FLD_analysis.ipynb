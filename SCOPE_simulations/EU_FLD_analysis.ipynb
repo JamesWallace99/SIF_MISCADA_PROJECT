{
 "cells": [
  {
   "cell_type": "markdown",
   "metadata": {},
   "source": [
    "# Import FLD methods from script"
   ]
  },
  {
   "cell_type": "code",
   "execution_count": null,
   "metadata": {},
   "outputs": [],
   "source": [
    "from FLD_methods import *\n",
    "import os"
   ]
  },
  {
   "cell_type": "markdown",
   "metadata": {},
   "source": [
    "# Get the SCOPE simulations of 16 different crop types"
   ]
  },
  {
   "cell_type": "code",
   "execution_count": null,
   "metadata": {},
   "outputs": [],
   "source": [
    "scope_crops = '/Users/jameswallace/Desktop/SCOPE_crops' # get the folder containing the SCOPE sims"
   ]
  },
  {
   "cell_type": "code",
   "execution_count": null,
   "metadata": {},
   "outputs": [],
   "source": [
    "from glob import glob\n",
    "folders = glob(\"/Users/jameswallace/Desktop/SCOPE_crops/*/\")  "
   ]
  },
  {
   "cell_type": "code",
   "execution_count": null,
   "metadata": {},
   "outputs": [],
   "source": [
    "# get the correct files\n",
    "def get_spectra_pathnames(dir_pathname):\n",
    "    folders = glob(dir_pathname + '/*/')\n",
    "    e_sun_pathnames, e_sky_pathnames, l_pathnames, f_pathnames = [], [], [], []\n",
    "    for sub_dir in folders:\n",
    "        e_sun_pathnames.append(sub_dir + 'Esun.csv')\n",
    "        e_sky_pathnames.append(sub_dir + 'Esky.csv') # total E = Esun + Esky\n",
    "        l_pathnames.append(sub_dir + 'Lo_spectrum_inclF.csv')\n",
    "        f_pathnames.append(sub_dir + 'fluorescence_scalars.csv')\n",
    "    return(e_sun_pathnames, e_sky_pathnames, l_pathnames, f_pathnames)"
   ]
  },
  {
   "cell_type": "code",
   "execution_count": null,
   "metadata": {},
   "outputs": [],
   "source": [
    "e_sun_pathnames, e_sky_pathnames, l_pathnames, f_pathnames = get_spectra_pathnames(scope_crops) # get pathnames"
   ]
  },
  {
   "cell_type": "code",
   "execution_count": null,
   "metadata": {},
   "outputs": [],
   "source": [
    "# get the spectras from the files and apply sFLD, 3FLD and iFLD to the original and resampled spectras\n",
    "# fetch the SIF at the O2A band for each spectra\n",
    "retrieved_flourescence = []\n",
    "actual_fluorescence = []\n",
    "retrieved_convoluted_fluorescence = []\n",
    "three_fld_retrieved = []\n",
    "three_fld_convoluted = []\n",
    "i_fld_retrieved = []\n",
    "i_fld_convoluted = []\n",
    "\n",
    "for i in range(len(e_sky_pathnames)):\n",
    "    print(l_pathnames[i])\n",
    "    # get the E and L spectra\n",
    "    # using just sun or sky and sun gives different results\n",
    "    e_spectra = get_simulated_spectral_df(e_sky_pathnames[i]) + get_simulated_spectral_df(e_sun_pathnames[i])\n",
    "    l_spectra = get_simulated_spectral_df(l_pathnames[i])\n",
    "    e_spectra = np.asarray(e_spectra.iloc[0])\n",
    "    l_spectra = np.asarray(l_spectra.iloc[0])\n",
    "    \n",
    "    resampled_e_spectra, re_wave = resample_spectra(fwhm = 3.5, spectra = e_spectra)\n",
    "    resampled_l_spectra = resample_spectra(fwhm=3.5, spectra = l_spectra)[0]\n",
    "    \n",
    "    # apply the sFLD method\n",
    "    retrieved_flourescence.append(sFLD(e_spectra / np.pi, l_spectra, np.arange(400, 2562), fwhm = 1, plot = False))\n",
    "    retrieved_convoluted_fluorescence.append(sFLD(resampled_e_spectra, resampled_l_spectra, re_wave, fwhm = 3.5, plot = False))\n",
    "    three_fld_retrieved.append(three_FLD(e_spectra / np.pi, l_spectra, np.arange(400, 2562), fwhm = 1))\n",
    "    three_fld_convoluted.append(three_FLD(resampled_e_spectra / np.pi, resampled_l_spectra, re_wave, fwhm = 3.5, plot = False))\n",
    "    i_fld_retrieved.append(iFLD(e_spectra / np.pi, l_spectra, np.arange(400, 2562), fwhm = 1, plot = False))\n",
    "    i_fld_convoluted.append(iFLD(resampled_e_spectra / np.pi, resampled_l_spectra, re_wave, fwhm = 3.5, plot = False))\n",
    "    \n",
    "    \n",
    "    # get actual F\n",
    "    f_df = pd.read_csv(f_pathnames[i])\n",
    "    f_df = f_df.iloc[2:]\n",
    "    f_df.index = [0]\n",
    "    f_761 = pd.to_numeric(f_df['F761'])\n",
    "    actual_fluorescence.append(f_761.iloc[0])"
   ]
  },
  {
   "cell_type": "markdown",
   "metadata": {},
   "source": [
    "# Define the RMSE and R$^2$ goodness-of-fit statistics"
   ]
  },
  {
   "cell_type": "code",
   "execution_count": null,
   "metadata": {},
   "outputs": [],
   "source": [
    "# now calculate quality of fit statistics\n",
    "\n",
    "def rmse(y_actual, y_predicted):\n",
    "    MSE = np.square(np.subtract(y_actual,y_predicted)).mean()\n",
    "    RMSE = np.sqrt(MSE)\n",
    "    return(RMSE)\n",
    "\n",
    "from sklearn.metrics import r2_score\n",
    "\n",
    "coefficient_of_dermination = r2_score(actual_fluorescence, retrieved_flourescence)\n",
    "    "
   ]
  },
  {
   "cell_type": "markdown",
   "metadata": {},
   "source": [
    "# Plot the result of each method and the goodness-of-fit statisitics"
   ]
  },
  {
   "cell_type": "code",
   "execution_count": null,
   "metadata": {},
   "outputs": [],
   "source": [
    "# now plot retrieved against actual and the goodness of fit statisitics\n",
    "\n",
    "fig, (ax1, ax2, ax3) = plt.subplots(1, 3, figsize = (16, 8))\n",
    "\n",
    "# plot sFLD results\n",
    "ax1.scatter(actual_fluorescence, retrieved_flourescence, label = '1 nm FWHM')\n",
    "ax1.scatter(actual_fluorescence, retrieved_convoluted_fluorescence, label = '3.5 nm FWHM')\n",
    "ax1.plot(np.unique(actual_fluorescence), np.poly1d(np.polyfit(actual_fluorescence, retrieved_flourescence, 1))(np.unique(actual_fluorescence)))\n",
    "ax1.plot(np.unique(actual_fluorescence), np.poly1d(np.polyfit(actual_fluorescence, retrieved_convoluted_fluorescence, 1))(np.unique(actual_fluorescence)))\n",
    "ax1.plot(actual_fluorescence, actual_fluorescence, label = 'Reference', alpha = 0.6)\n",
    "ax1.set_xlabel('Reference F$_{761}$ ($mW m^{-2} sr^{-1} nm^{-1}$)')\n",
    "ax1.set_ylabel('Retrieved F$_{761}$ ($mW m^{-2} sr^{-1} nm^{-1}$)')\n",
    "ax1.set_xlim(0, 9)\n",
    "ax1.set_ylim(0, 9)\n",
    "ax1.set_title('sFLD Fluorescence Retrieval Accuracy')\n",
    "ax1.text(x = 0.2, y = 8.2, s = 'R$^2$:' + str(round(r2_score(actual_fluorescence, retrieved_flourescence), 3)) + ', RMSE:' + str(round(rmse(actual_fluorescence, retrieved_flourescence), 3)), color = '#1f77b4', fontsize = 12)\n",
    "ax1.text(x = 0.2, y = 7.7, s = 'R$^2$:' + str(round(r2_score(actual_fluorescence, retrieved_convoluted_fluorescence), 3)) + ', RMSE:' + str(round(rmse(actual_fluorescence, retrieved_convoluted_fluorescence), 3)), color = 'C1', fontsize = 12)\n",
    "ax1.legend(loc = 'lower right')\n",
    "\n",
    "# plot 3FLD results\n",
    "ax2.scatter(actual_fluorescence, three_fld_retrieved, label = '1 nm FWHM')\n",
    "ax2.scatter(actual_fluorescence, three_fld_convoluted, label = '3.5 nm FWHM', marker = 'D')\n",
    "ax2.plot(np.unique(actual_fluorescence), np.poly1d(np.polyfit(actual_fluorescence, three_fld_retrieved, 1))(np.unique(actual_fluorescence)))\n",
    "ax2.plot(np.unique(actual_fluorescence), np.poly1d(np.polyfit(actual_fluorescence, three_fld_convoluted, 1))(np.unique(actual_fluorescence)))\n",
    "ax2.plot(actual_fluorescence, actual_fluorescence, label = 'Reference', alpha = 0.6)\n",
    "ax2.set_xlabel('Reference F$_{761}$ ($mW m^{-2} sr^{-1} nm^{-1}$)')\n",
    "#ax2.set_ylabel('Reference F$_{761}$ ($mW m^{-2} sr^{-1} nm^{-1}$)')\n",
    "ax2.set_xlim(0, 9)\n",
    "ax2.set_ylim(0, 9)\n",
    "ax2.set_title('3FLD Fluorescence Retrieval Accuracy')\n",
    "\n",
    "ax2.text(x = 0.2, y = 8.2, s = 'R$^2$:' + str(round(r2_score(actual_fluorescence, three_fld_retrieved), 3)) + ', RMSE:' + str(round(rmse(actual_fluorescence, three_fld_retrieved), 3)), color = '#1f77b4', fontsize = 12)\n",
    "ax2.text(x = 0.2, y = 7.7, s = 'R$^2$:' + str(round(r2_score(actual_fluorescence, three_fld_convoluted), 3)) + ', RMSE:' + str(round(rmse(actual_fluorescence, three_fld_convoluted), 3)), color = 'C1', fontsize = 12)\n",
    "\n",
    "ax2.legend(loc='lower right')\n",
    "\n",
    "# plot iFLD results\n",
    "# produce basic plot\n",
    "ax3.scatter(actual_fluorescence, i_fld_retrieved, label = '1 nm FWHM')\n",
    "ax3.scatter(actual_fluorescence, i_fld_convoluted, label = '3.5 nm FWHM', marker = 'D')\n",
    "ax3.plot(np.unique(actual_fluorescence), np.poly1d(np.polyfit(actual_fluorescence, i_fld_retrieved, 1))(np.unique(actual_fluorescence)))\n",
    "ax3.plot(np.unique(actual_fluorescence), np.poly1d(np.polyfit(actual_fluorescence, i_fld_convoluted, 1))(np.unique(actual_fluorescence)))\n",
    "ax3.plot(actual_fluorescence, actual_fluorescence, label = 'Reference')\n",
    "ax3.set_xlabel('Reference F761 (mW m-2 sr-1 nm-1)')\n",
    "#ax3.set_ylabel('Retrieved F761 (mW m-2 sr-1 nm-1)')\n",
    "ax3.set_xlim(0, 9)\n",
    "ax3.set_ylim(0, 9)\n",
    "ax3.set_title('iFLD Fluorescence Retrieval Accuracy')\n",
    "\n",
    "ax3.text(x = 0.1, y = 8.2, s = 'R$^2$:' + str(round(r2_score(actual_fluorescence, i_fld_retrieved), 3)) + ', RMSE:' + str(round(rmse(actual_fluorescence, i_fld_retrieved), 3)), color = '#1f77b4', fontsize = 12)\n",
    "ax3.text(x = 0.1, y = 7.5, s = 'R$^2$:' + str(round(r2_score(actual_fluorescence, i_fld_convoluted), 3)) + ', RMSE:' + str(round(rmse(actual_fluorescence, i_fld_convoluted), 3)), color = 'C1', fontsize = 12)\n",
    "\n",
    "ax3.legend(loc='lower right')"
   ]
  },
  {
   "cell_type": "markdown",
   "metadata": {},
   "source": [
    "# Calculate the relative errors for each method between the expected and retrieved fluorescence"
   ]
  },
  {
   "cell_type": "code",
   "execution_count": null,
   "metadata": {},
   "outputs": [],
   "source": [
    "# now plot relative error box and whisker\n",
    "\n",
    "# relative_error = |(actual - expected) / expected| * 100 \n",
    "\n",
    "def relative_error(retrieved, expected):\n",
    "    error = (retrieved - expected) / expected\n",
    "    rel_error = np.abs(error) * 100\n",
    "    return(rel_error)"
   ]
  },
  {
   "cell_type": "code",
   "execution_count": null,
   "metadata": {},
   "outputs": [],
   "source": [
    "# get the relative errors for each method\n",
    "sfld_rel_error = []\n",
    "sfld_conv_rel_error = []\n",
    "three_rel_error = []\n",
    "three_conv_rel_error = []\n",
    "ifld_rel_error = []\n",
    "ifld_conv_rel_error = []\n",
    "for i in range(len(retrieved_flourescence)):\n",
    "    sfld_rel_error.append(relative_error(retrieved_flourescence[i], actual_fluorescence[i]))\n",
    "    sfld_conv_rel_error.append(relative_error(retrieved_convoluted_fluorescence[i], actual_fluorescence[i]))\n",
    "    three_rel_error.append(relative_error(three_fld_retrieved[i], actual_fluorescence[i]))\n",
    "    three_conv_rel_error.append(relative_error(three_fld_convoluted[i], actual_fluorescence[i]))\n",
    "    ifld_rel_error.append(relative_error(i_fld_retrieved[i], actual_fluorescence[i]))\n",
    "    ifld_conv_rel_error.append(relative_error(i_fld_convoluted[i], actual_fluorescence[i]))"
   ]
  },
  {
   "cell_type": "code",
   "execution_count": null,
   "metadata": {},
   "outputs": [],
   "source": [
    "# plot box plots for the relative errors\n",
    "fig, axes = plt.subplots(1, 3, figsize = (16, 8))\n",
    "\n",
    "labels = ['1 nm FWHM', '3.5 nm FWHM']\n",
    "\n",
    "data1 = [sfld_rel_error, sfld_conv_rel_error]\n",
    "data2 = [three_rel_error, three_conv_rel_error]\n",
    "data3 = [ifld_rel_error, ifld_conv_rel_error]\n",
    "\n",
    "bplot1 = axes[0].boxplot(data1, vert = True, patch_artist = True, labels = labels, showfliers = False)\n",
    "\n",
    "plt.xticks(rotation= 90)\n",
    "axes[0].set_title('sFLD')\n",
    "for tick in axes[0].get_xticklabels():\n",
    "    tick.set_rotation(45)\n",
    "\n",
    "axes[0].set_ylim(0, 150)\n",
    "axes[0].set_ylabel('Relative Error F$_{761}$ (%)')\n",
    "\n",
    "bplot2 = axes[1].boxplot(data2, notch = False, vert = True, patch_artist = True, labels = labels, showfliers = False)\n",
    "\n",
    "bplot3 = axes[2].boxplot(data2, notch = False, vert = True, patch_artist = True, labels = labels, showfliers = False)\n",
    "\n",
    "\n",
    "colors = ['pink', 'lightblue', 'lightgreen', 'k', 'r', 'g', 'm', 'y', 'w']\n",
    "for bplot in (bplot1, bplot2, bplot3):\n",
    "    for patch, color in zip(bplot['boxes'], colors):\n",
    "        patch.set_facecolor(color)\n",
    "\n",
    "for tick in axes[1].get_xticklabels():\n",
    "    tick.set_rotation(45)\n",
    "\n",
    "axes[1].set_ylim(0, 80)\n",
    "axes[2].set_ylim(0, 80)\n",
    "axes[1].set_title('3FLD')\n",
    "axes[2].set_title('iFLD')\n",
    "\n",
    "\n",
    "\n",
    "plt.show()\n",
    "\n"
   ]
  },
  {
   "cell_type": "markdown",
   "metadata": {},
   "source": [
    "# Repeat for the O2B absorption band"
   ]
  },
  {
   "cell_type": "code",
   "execution_count": null,
   "metadata": {},
   "outputs": [],
   "source": [
    "# get the spectras from the files and apply sFLD, 3FLD and iFLD to the original and resampled spectras\n",
    "# fetch the SIF at the O2A band for each spectra\n",
    "retrieved_flourescence = []\n",
    "actual_fluorescence = []\n",
    "retrieved_convoluted_fluorescence = []\n",
    "three_fld_retrieved = []\n",
    "three_fld_convoluted = []\n",
    "i_fld_retrieved = []\n",
    "i_fld_convoluted = []\n",
    "\n",
    "for i in range(len(e_sky_pathnames)):\n",
    "    print(l_pathnames[i])\n",
    "    # get the E and L spectra\n",
    "    # using just sun or sky and sun gives different results\n",
    "    e_spectra = get_simulated_spectral_df(e_sky_pathnames[i]) + get_simulated_spectral_df(e_sun_pathnames[i])\n",
    "    l_spectra = get_simulated_spectral_df(l_pathnames[i])\n",
    "    e_spectra = np.asarray(e_spectra.iloc[0])\n",
    "    l_spectra = np.asarray(l_spectra.iloc[0])\n",
    "    \n",
    "    resampled_e_spectra, re_wave = resample_spectra(fwhm = 3.5, spectra = e_spectra)\n",
    "    resampled_l_spectra = resample_spectra(fwhm=3.5, spectra = l_spectra)[0]\n",
    "    \n",
    "    # apply the sFLD method\n",
    "    retrieved_flourescence.append(sFLD(e_spectra / np.pi, l_spectra, np.arange(400, 2562), fwhm = 1, plot = False, band = 'B'))\n",
    "    retrieved_convoluted_fluorescence.append(sFLD(resampled_e_spectra, resampled_l_spectra, re_wave, fwhm = 3.5, plot = False, band = 'B'))\n",
    "    three_fld_retrieved.append(three_FLD(e_spectra / np.pi, l_spectra, np.arange(400, 2562), fwhm = 1, band = 'B'))\n",
    "    three_fld_convoluted.append(three_FLD(resampled_e_spectra / np.pi, resampled_l_spectra, re_wave, fwhm = 3.5, plot = False, band = 'B'))\n",
    "    i_fld_retrieved.append(iFLD(e_spectra / np.pi, l_spectra, np.arange(400, 2562), fwhm = 1, plot = False, band = 'B'))\n",
    "    i_fld_convoluted.append(iFLD(resampled_e_spectra / np.pi, resampled_l_spectra, re_wave, fwhm = 3.5, plot = False, band = 'B'))\n",
    "    \n",
    "    \n",
    "    # get actual F\n",
    "    f_df = pd.read_csv(f_pathnames[i])\n",
    "    f_df = f_df.iloc[2:]\n",
    "    f_df.index = [0]\n",
    "    f_684 = pd.to_numeric(f_df['F684'])\n",
    "    actual_fluorescence.append(f_684.iloc[0])"
   ]
  },
  {
   "cell_type": "code",
   "execution_count": null,
   "metadata": {},
   "outputs": [],
   "source": [
    "# now plot retrieved against actual and the goodness of fit statisitics\n",
    "\n",
    "fig, (ax1, ax2, ax3) = plt.subplots(1, 3, figsize = (16, 8))\n",
    "\n",
    "# plot sFLD results\n",
    "ax1.scatter(actual_fluorescence, retrieved_flourescence, label = '1 nm FWHM')\n",
    "ax1.scatter(actual_fluorescence, retrieved_convoluted_fluorescence, label = '3.5 nm FWHM')\n",
    "ax1.plot(np.unique(actual_fluorescence), np.poly1d(np.polyfit(actual_fluorescence, retrieved_flourescence, 1))(np.unique(actual_fluorescence)))\n",
    "ax1.plot(np.unique(actual_fluorescence), np.poly1d(np.polyfit(actual_fluorescence, retrieved_convoluted_fluorescence, 1))(np.unique(actual_fluorescence)))\n",
    "ax1.plot(actual_fluorescence, actual_fluorescence, label = 'Reference', alpha = 0.6)\n",
    "ax1.set_xlabel('Reference F$_{761}$ ($mW m^{-2} sr^{-1} nm^{-1}$)')\n",
    "ax1.set_ylabel('Retrieved F$_{761}$ ($mW m^{-2} sr^{-1} nm^{-1}$)')\n",
    "ax1.set_xlim(0, 9)\n",
    "ax1.set_ylim(0, 9)\n",
    "ax1.set_title('sFLD Fluorescence Retrieval Accuracy')\n",
    "ax1.text(x = 0.2, y = 8.2, s = 'R$^2$:' + str(round(r2_score(actual_fluorescence, retrieved_flourescence), 3)) + ', RMSE:' + str(round(rmse(actual_fluorescence, retrieved_flourescence), 3)), color = '#1f77b4', fontsize = 12)\n",
    "ax1.text(x = 0.2, y = 7.7, s = 'R$^2$:' + str(round(r2_score(actual_fluorescence, retrieved_convoluted_fluorescence), 3)) + ', RMSE:' + str(round(rmse(actual_fluorescence, retrieved_convoluted_fluorescence), 3)), color = 'C1', fontsize = 12)\n",
    "ax1.legend(loc = 'lower right')\n",
    "\n",
    "# plot 3FLD results\n",
    "ax2.scatter(actual_fluorescence, three_fld_retrieved, label = '1 nm FWHM')\n",
    "ax2.scatter(actual_fluorescence, three_fld_convoluted, label = '3.5 nm FWHM', marker = 'D')\n",
    "ax2.plot(np.unique(actual_fluorescence), np.poly1d(np.polyfit(actual_fluorescence, three_fld_retrieved, 1))(np.unique(actual_fluorescence)))\n",
    "ax2.plot(np.unique(actual_fluorescence), np.poly1d(np.polyfit(actual_fluorescence, three_fld_convoluted, 1))(np.unique(actual_fluorescence)))\n",
    "ax2.plot(actual_fluorescence, actual_fluorescence, label = 'Reference', alpha = 0.6)\n",
    "ax2.set_xlabel('Reference F$_{761}$ ($mW m^{-2} sr^{-1} nm^{-1}$)')\n",
    "#ax2.set_ylabel('Reference F$_{761}$ ($mW m^{-2} sr^{-1} nm^{-1}$)')\n",
    "ax2.set_xlim(0, 9)\n",
    "ax2.set_ylim(0, 9)\n",
    "ax2.set_title('3FLD Fluorescence Retrieval Accuracy')\n",
    "\n",
    "ax2.text(x = 0.2, y = 8.2, s = 'R$^2$:' + str(round(r2_score(actual_fluorescence, three_fld_retrieved), 3)) + ', RMSE:' + str(round(rmse(actual_fluorescence, three_fld_retrieved), 3)), color = '#1f77b4', fontsize = 12)\n",
    "ax2.text(x = 0.2, y = 7.7, s = 'R$^2$:' + str(round(r2_score(actual_fluorescence, three_fld_convoluted), 3)) + ', RMSE:' + str(round(rmse(actual_fluorescence, three_fld_convoluted), 3)), color = 'C1', fontsize = 12)\n",
    "\n",
    "ax2.legend(loc='lower right')\n",
    "\n",
    "# plot iFLD results\n",
    "# produce basic plot\n",
    "ax3.scatter(actual_fluorescence, i_fld_retrieved, label = '1 nm FWHM')\n",
    "ax3.scatter(actual_fluorescence, i_fld_convoluted, label = '3.5 nm FWHM', marker = 'D')\n",
    "ax3.plot(np.unique(actual_fluorescence), np.poly1d(np.polyfit(actual_fluorescence, i_fld_retrieved, 1))(np.unique(actual_fluorescence)))\n",
    "ax3.plot(np.unique(actual_fluorescence), np.poly1d(np.polyfit(actual_fluorescence, i_fld_convoluted, 1))(np.unique(actual_fluorescence)))\n",
    "ax3.plot(actual_fluorescence, actual_fluorescence, label = 'Reference')\n",
    "ax3.set_xlabel('Reference F761 (mW m-2 sr-1 nm-1)')\n",
    "#ax3.set_ylabel('Retrieved F761 (mW m-2 sr-1 nm-1)')\n",
    "ax3.set_xlim(0, 9)\n",
    "ax3.set_ylim(0, 9)\n",
    "ax3.set_title('iFLD Fluorescence Retrieval Accuracy')\n",
    "\n",
    "ax3.text(x = 0.1, y = 8.2, s = 'R$^2$:' + str(round(r2_score(actual_fluorescence, i_fld_retrieved), 3)) + ', RMSE:' + str(round(rmse(actual_fluorescence, i_fld_retrieved), 3)), color = '#1f77b4', fontsize = 12)\n",
    "ax3.text(x = 0.1, y = 7.5, s = 'R$^2$:' + str(round(r2_score(actual_fluorescence, i_fld_convoluted), 3)) + ', RMSE:' + str(round(rmse(actual_fluorescence, i_fld_convoluted), 3)), color = 'C1', fontsize = 12)\n",
    "\n",
    "ax3.legend(loc='lower right')"
   ]
  },
  {
   "cell_type": "code",
   "execution_count": null,
   "metadata": {},
   "outputs": [],
   "source": []
  }
 ],
 "metadata": {
  "kernelspec": {
   "display_name": "Python 3",
   "language": "python",
   "name": "python3"
  },
  "language_info": {
   "codemirror_mode": {
    "name": "ipython",
    "version": 3
   },
   "file_extension": ".py",
   "mimetype": "text/x-python",
   "name": "python",
   "nbconvert_exporter": "python",
   "pygments_lexer": "ipython3",
   "version": "3.8.5"
  }
 },
 "nbformat": 4,
 "nbformat_minor": 4
}
