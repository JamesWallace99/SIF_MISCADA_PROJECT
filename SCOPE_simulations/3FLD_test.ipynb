{
 "cells": [
  {
   "cell_type": "code",
   "execution_count": 66,
   "metadata": {},
   "outputs": [],
   "source": [
    "import numpy as np\n",
    "import pandas as pd\n",
    "import matplotlib.pyplot as plt"
   ]
  },
  {
   "cell_type": "code",
   "execution_count": 67,
   "metadata": {},
   "outputs": [],
   "source": [
    "from sFLD import *\n",
    "from calculate_error import *"
   ]
  },
  {
   "cell_type": "code",
   "execution_count": 68,
   "metadata": {},
   "outputs": [],
   "source": [
    "# get data ready"
   ]
  },
  {
   "cell_type": "code",
   "execution_count": 69,
   "metadata": {},
   "outputs": [],
   "source": [
    "e_pathname = \"/Users/jameswallace/Desktop/Project/data/verification_run_2021-06-14-1239/Esun.csv\"\n",
    "l_pathname = \"/Users/jameswallace/Desktop/Project/data/verification_run_2021-06-14-1239/Lo_spectrum_inclF.csv\"\n",
    "f_pathname = \"/Users/jameswallace/Desktop/Project/data/verification_run_2021-06-14-1239/fluorescence_scalars.csv\"\n",
    "# place the spectra in readable dataframes\n",
    "e_df = get_simulated_spectral_df(e_pathname)\n",
    "l_df = get_simulated_spectral_df(l_pathname)\n",
    "f_df = pd.read_csv(f_pathname)\n",
    "f_df = f_df.iloc[1:]\n",
    "# get the O2A fluorescence from the fluorescence scalars df\n",
    "f_761 = pd.to_numeric(f_df['F761'])\n",
    "# now average them for every ten rows\n",
    "e_average = average_dataframe(e_df, 10)\n",
    "l_average = average_dataframe(l_df, 10)\n",
    "f_average = average_dataframe(f_761, 10)"
   ]
  },
  {
   "cell_type": "code",
   "execution_count": 70,
   "metadata": {},
   "outputs": [
    {
     "data": {
      "image/png": "[encoded data removed]",
      "text/plain": [
       "<Figure size 432x288 with 1 Axes>"
      ]
     },
     "metadata": {
      "needs_background": "light"
     },
     "output_type": "display_data"
    },
    {
     "data": {
      "text/plain": [
       "0.6750198110058563"
      ]
     },
     "execution_count": 70,
     "metadata": {},
     "output_type": "execute_result"
    }
   ],
   "source": [
    "new_sFLD(np.asarray(e_average.iloc[0]) /np.pi, np.asarray(l_average.iloc[0]), np.arange(400, 2562), plot = True)"
   ]
  },
  {
   "cell_type": "code",
   "execution_count": 71,
   "metadata": {},
   "outputs": [
    {
     "data": {
      "text/plain": [
       "17.649736205230447"
      ]
     },
     "execution_count": 71,
     "metadata": {},
     "output_type": "execute_result"
    }
   ],
   "source": [
    "# apply the new sFLD method to each row of the averaged simulated data\n",
    "differences = []\n",
    "percentage_errors = []\n",
    "for i in range(len(e_average)):\n",
    "    error = f_average[i] - new_sFLD(np.asarray(e_average.iloc[i]) / np.pi, np.asarray(l_average.iloc[i]), np.arange(400, 2562), plot = False)\n",
    "    error = np.sqrt(error**2)\n",
    "    differences.append(error)\n",
    "    percentage_errors.append(100*(error) / f_average[i])\n",
    "\n",
    "# calculate average percentage error\n",
    "np.mean(percentage_errors)"
   ]
  },
  {
   "cell_type": "code",
   "execution_count": 90,
   "metadata": {},
   "outputs": [],
   "source": [
    "def three_FLD(e_spectra, l_spectra, wavelengths, plot=True):\n",
    "    \n",
    "    buffer_in = 1\n",
    "    buffer_out = 8\n",
    "    \n",
    "    wl_in = 760\n",
    "    \n",
    "    # get absorption well position\n",
    "    e_in_index, e_in = stats_on_spectra(wavelengths, wl_in - buffer_in, wl_in + buffer_in, e_spectra, 'min')\n",
    "    l_in_index, l_in = stats_on_spectra(wavelengths, wl_in - buffer_in, wl_in + buffer_in, l_spectra, 'min')\n",
    "    \n",
    "    # get absorption shoulders\n",
    "    e_left_index, e_left = stats_on_spectra(wavelengths, wl_in - buffer_in, wl_in, e_spectra, 'max')\n",
    "    l_left_index, l_left = stats_on_spectra(wavelengths, wl_in - buffer_in, wl_in, l_spectra, 'max')\n",
    "    \n",
    "    e_right_index, e_right = stats_on_spectra(wavelengths, wl_in, wl_in + buffer_out, e_spectra, 'max')\n",
    "    l_right_index, l_right = stats_on_spectra(wavelengths, wl_in, wl_in + buffer_out, l_spectra, 'max')\n",
    "    \n",
    "    # interpolate between shoulders\n",
    "    \n",
    "    e_wavelengths_inter = wavelengths[e_left_index:e_right_index + 1]\n",
    "    l_wavelengths_inter = wavelengths[l_left_index:l_right_index + 1]\n",
    "    \n",
    "    # get equation of straight line between two shoulders\n",
    "    \n",
    "    e_xp = [e_wavelengths_inter[0], e_wavelengths_inter[-1]] # get x values\n",
    "    l_xp = [l_wavelengths_inter[0], l_wavelengths_inter[-1]]\n",
    "    \n",
    "    e_fp = [e_left, e_right] # get y values\n",
    "    l_fp = [l_left, l_right]\n",
    "    \n",
    "    e_coefficients = np.polyfit(e_xp, e_fp, 1) # polyfit for equation\n",
    "    l_coefficients = np.polyfit(l_xp, l_fp, 1)\n",
    "    \n",
    "    # apply to wavelengths in between shoulders\n",
    "    \n",
    "    e_interpolated = e_wavelengths_inter*e_coefficients[0] + e_coefficients[1]\n",
    "    l_interpolated = l_wavelengths_inter*l_coefficients[0] + l_coefficients[1]\n",
    "    \n",
    "    # find interpolated value inside of absorption band\n",
    "    \n",
    "    e_out = e_interpolated[e_in_index - e_left_index]\n",
    "    l_out = l_interpolated[l_in_index - l_left_index]\n",
    "    \n",
    "    \n",
    "    if plot == True:\n",
    "        \n",
    "        # plot spectra\n",
    "        plt.plot(wavelengths, e_spectra, color = 'orange')\n",
    "        plt.plot(wavelengths, l_spectra, color = 'blue')\n",
    "        \n",
    "        # plot selected points\n",
    "        plt.scatter(wavelengths[e_in_index], e_in, label = 'e_in')\n",
    "        plt.scatter(wavelengths[l_in_index], l_in, label = 'l_in')\n",
    "        plt.scatter(wavelengths[e_left_index], e_left, label = 'e_left')\n",
    "        plt.scatter(wavelengths[l_left_index], l_left, label = 'l_left')\n",
    "        plt.scatter(wavelengths[e_right_index], e_right, label = 'e_right')\n",
    "        plt.scatter(wavelengths[l_right_index], l_right, label = 'l_right')\n",
    "        \n",
    "        # plot interpolation\n",
    "        plt.plot(e_wavelengths_inter, e_interpolated)\n",
    "        plt.plot(l_wavelengths_inter, l_interpolated)\n",
    "        plt.scatter(wavelengths[e_in_index], e_out, label = 'e_out')\n",
    "        plt.scatter(wavelengths[l_in_index], l_out, label = 'l_out')\n",
    "        \n",
    "        #plt.legend()\n",
    "        plt.xlim(750, 775)\n",
    "        plt.show()\n",
    "    \n",
    "    fluorescence = (e_out*l_in - l_out*e_in) / (e_out - e_in)\n",
    "    \n",
    "    return(fluorescence)"
   ]
  },
  {
   "cell_type": "code",
   "execution_count": 91,
   "metadata": {},
   "outputs": [
    {
     "data": {
      "image/png": "[encoded data removed]",
      "text/plain": [
       "<Figure size 432x288 with 1 Axes>"
      ]
     },
     "metadata": {
      "needs_background": "light"
     },
     "output_type": "display_data"
    },
    {
     "data": {
      "text/plain": [
       "0.2504011015845598"
      ]
     },
     "execution_count": 91,
     "metadata": {},
     "output_type": "execute_result"
    }
   ],
   "source": [
    "three_FLD(np.asarray(e_average.iloc[1]) /np.pi, np.asarray(l_average.iloc[1]), np.arange(400, 2562), plot = True)"
   ]
  },
  {
   "cell_type": "code",
   "execution_count": 93,
   "metadata": {},
   "outputs": [
    {
     "data": {
      "text/plain": [
       "65.49013752396516"
      ]
     },
     "execution_count": 93,
     "metadata": {},
     "output_type": "execute_result"
    }
   ],
   "source": [
    "# apply the new sFLD method to each row of the averaged simulated data\n",
    "differences = []\n",
    "percentage_errors = []\n",
    "for i in range(len(e_average)):\n",
    "    error = f_average[i] - three_FLD(np.asarray(e_average.iloc[i]) / np.pi, np.asarray(l_average.iloc[i]), np.arange(400, 2562), plot = False)\n",
    "    differences.append(error)\n",
    "    percentage_error = 100*abs(error) / (f_average[i])\n",
    "    percentage_errors.append(percentage_error)\n",
    "\n",
    "# calculate average percentage error\n",
    "np.mean(percentage_errors)"
   ]
  },
  {
   "cell_type": "code",
   "execution_count": null,
   "metadata": {},
   "outputs": [],
   "source": []
  }
 ],
 "metadata": {
  "kernelspec": {
   "display_name": "Python 3",
   "language": "python",
   "name": "python3"
  },
  "language_info": {
   "codemirror_mode": {
    "name": "ipython",
    "version": 3
   },
   "file_extension": ".py",
   "mimetype": "text/x-python",
   "name": "python",
   "nbconvert_exporter": "python",
   "pygments_lexer": "ipython3",
   "version": "3.8.5"
  }
 },
 "nbformat": 4,
 "nbformat_minor": 4
}
