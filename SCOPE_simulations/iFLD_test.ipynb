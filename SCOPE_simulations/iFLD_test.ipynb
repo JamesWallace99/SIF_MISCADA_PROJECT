{
 "cells": [
  {
   "cell_type": "markdown",
   "metadata": {},
   "source": [
    "# Basic Usage"
   ]
  },
  {
   "cell_type": "markdown",
   "metadata": {},
   "source": [
    "<h2>Loading Relevant Libraries</h2>"
   ]
  },
  {
   "cell_type": "code",
   "execution_count": 124,
   "metadata": {},
   "outputs": [],
   "source": [
    "from FLD_methods import *"
   ]
  },
  {
   "cell_type": "markdown",
   "metadata": {},
   "source": [
    "<h2>Load Example Spectral Data From SCOPE</h2>"
   ]
  },
  {
   "cell_type": "code",
   "execution_count": 125,
   "metadata": {},
   "outputs": [],
   "source": [
    "e_spectra = get_simulated_spectral_df('Esun_example.csv')\n",
    "l_spectra = get_simulated_spectral_df('Lo_spectrum_inclF_example.csv')"
   ]
  },
  {
   "cell_type": "markdown",
   "metadata": {},
   "source": [
    "The 'get_simulated_spectral_df' function extracts the hyperspectral data from a csv file and places it in a pandas dataframe with columns named from 400 to 2562."
   ]
  },
  {
   "cell_type": "code",
   "execution_count": 126,
   "metadata": {},
   "outputs": [
    {
     "data": {
      "text/html": [
       "<div>\n",
       "<style scoped>\n",
       "    .dataframe tbody tr th:only-of-type {\n",
       "        vertical-align: middle;\n",
       "    }\n",
       "\n",
       "    .dataframe tbody tr th {\n",
       "        vertical-align: top;\n",
       "    }\n",
       "\n",
       "    .dataframe thead th {\n",
       "        text-align: right;\n",
       "    }\n",
       "</style>\n",
       "<table border=\"1\" class=\"dataframe\">\n",
       "  <thead>\n",
       "    <tr style=\"text-align: right;\">\n",
       "      <th></th>\n",
       "      <th>400</th>\n",
       "      <th>401</th>\n",
       "      <th>402</th>\n",
       "      <th>403</th>\n",
       "      <th>404</th>\n",
       "      <th>405</th>\n",
       "      <th>406</th>\n",
       "      <th>407</th>\n",
       "      <th>408</th>\n",
       "      <th>409</th>\n",
       "      <th>...</th>\n",
       "      <th>2552</th>\n",
       "      <th>2553</th>\n",
       "      <th>2554</th>\n",
       "      <th>2555</th>\n",
       "      <th>2556</th>\n",
       "      <th>2557</th>\n",
       "      <th>2558</th>\n",
       "      <th>2559</th>\n",
       "      <th>2560</th>\n",
       "      <th>2561</th>\n",
       "    </tr>\n",
       "  </thead>\n",
       "  <tbody>\n",
       "    <tr>\n",
       "      <th>0</th>\n",
       "      <td>336.01160</td>\n",
       "      <td>315.72190</td>\n",
       "      <td>342.59300</td>\n",
       "      <td>321.27470</td>\n",
       "      <td>350.8413</td>\n",
       "      <td>313.92670</td>\n",
       "      <td>310.36930</td>\n",
       "      <td>322.30000</td>\n",
       "      <td>331.49800</td>\n",
       "      <td>366.95710</td>\n",
       "      <td>...</td>\n",
       "      <td>9.213793e-07</td>\n",
       "      <td>9.213793e-07</td>\n",
       "      <td>9.213793e-07</td>\n",
       "      <td>9.213793e-07</td>\n",
       "      <td>9.213793e-07</td>\n",
       "      <td>9.213793e-07</td>\n",
       "      <td>9.213793e-07</td>\n",
       "      <td>9.213793e-07</td>\n",
       "      <td>9.213793e-07</td>\n",
       "      <td>9.213793e-07</td>\n",
       "    </tr>\n",
       "    <tr>\n",
       "      <th>1</th>\n",
       "      <td>16.33707</td>\n",
       "      <td>15.35058</td>\n",
       "      <td>16.65706</td>\n",
       "      <td>15.62056</td>\n",
       "      <td>17.0581</td>\n",
       "      <td>15.26329</td>\n",
       "      <td>15.09033</td>\n",
       "      <td>15.67041</td>\n",
       "      <td>16.11762</td>\n",
       "      <td>17.84166</td>\n",
       "      <td>...</td>\n",
       "      <td>9.212117e-07</td>\n",
       "      <td>9.212117e-07</td>\n",
       "      <td>9.212117e-07</td>\n",
       "      <td>9.212117e-07</td>\n",
       "      <td>9.212117e-07</td>\n",
       "      <td>9.212117e-07</td>\n",
       "      <td>9.212117e-07</td>\n",
       "      <td>9.212117e-07</td>\n",
       "      <td>9.212117e-07</td>\n",
       "      <td>9.212117e-07</td>\n",
       "    </tr>\n",
       "    <tr>\n",
       "      <th>2</th>\n",
       "      <td>164.84230</td>\n",
       "      <td>154.88850</td>\n",
       "      <td>168.07100</td>\n",
       "      <td>157.61260</td>\n",
       "      <td>172.1175</td>\n",
       "      <td>154.00780</td>\n",
       "      <td>152.26260</td>\n",
       "      <td>158.11560</td>\n",
       "      <td>162.62800</td>\n",
       "      <td>180.02370</td>\n",
       "      <td>...</td>\n",
       "      <td>9.210900e-07</td>\n",
       "      <td>9.210900e-07</td>\n",
       "      <td>9.210900e-07</td>\n",
       "      <td>9.210900e-07</td>\n",
       "      <td>9.210900e-07</td>\n",
       "      <td>9.210900e-07</td>\n",
       "      <td>9.210900e-07</td>\n",
       "      <td>9.210900e-07</td>\n",
       "      <td>9.210900e-07</td>\n",
       "      <td>9.210900e-07</td>\n",
       "    </tr>\n",
       "    <tr>\n",
       "      <th>3</th>\n",
       "      <td>460.00450</td>\n",
       "      <td>432.22780</td>\n",
       "      <td>469.01460</td>\n",
       "      <td>439.82960</td>\n",
       "      <td>480.3066</td>\n",
       "      <td>429.77010</td>\n",
       "      <td>424.89990</td>\n",
       "      <td>441.23320</td>\n",
       "      <td>453.82550</td>\n",
       "      <td>502.36950</td>\n",
       "      <td>...</td>\n",
       "      <td>9.213486e-07</td>\n",
       "      <td>9.213486e-07</td>\n",
       "      <td>9.213486e-07</td>\n",
       "      <td>9.213486e-07</td>\n",
       "      <td>9.213486e-07</td>\n",
       "      <td>9.213486e-07</td>\n",
       "      <td>9.213486e-07</td>\n",
       "      <td>9.213486e-07</td>\n",
       "      <td>9.213486e-07</td>\n",
       "      <td>9.213486e-07</td>\n",
       "    </tr>\n",
       "    <tr>\n",
       "      <th>4</th>\n",
       "      <td>230.18830</td>\n",
       "      <td>216.28870</td>\n",
       "      <td>234.69700</td>\n",
       "      <td>220.09270</td>\n",
       "      <td>240.3476</td>\n",
       "      <td>215.05880</td>\n",
       "      <td>212.62180</td>\n",
       "      <td>220.79500</td>\n",
       "      <td>227.09630</td>\n",
       "      <td>251.38790</td>\n",
       "      <td>...</td>\n",
       "      <td>9.212103e-07</td>\n",
       "      <td>9.212103e-07</td>\n",
       "      <td>9.212103e-07</td>\n",
       "      <td>9.212103e-07</td>\n",
       "      <td>9.212103e-07</td>\n",
       "      <td>9.212103e-07</td>\n",
       "      <td>9.212103e-07</td>\n",
       "      <td>9.212103e-07</td>\n",
       "      <td>9.212103e-07</td>\n",
       "      <td>9.212103e-07</td>\n",
       "    </tr>\n",
       "  </tbody>\n",
       "</table>\n",
       "<p>5 rows × 2162 columns</p>\n",
       "</div>"
      ],
      "text/plain": [
       "        400        401        402        403       404        405        406   \\\n",
       "0  336.01160  315.72190  342.59300  321.27470  350.8413  313.92670  310.36930   \n",
       "1   16.33707   15.35058   16.65706   15.62056   17.0581   15.26329   15.09033   \n",
       "2  164.84230  154.88850  168.07100  157.61260  172.1175  154.00780  152.26260   \n",
       "3  460.00450  432.22780  469.01460  439.82960  480.3066  429.77010  424.89990   \n",
       "4  230.18830  216.28870  234.69700  220.09270  240.3476  215.05880  212.62180   \n",
       "\n",
       "        407        408        409   ...          2552          2553  \\\n",
       "0  322.30000  331.49800  366.95710  ...  9.213793e-07  9.213793e-07   \n",
       "1   15.67041   16.11762   17.84166  ...  9.212117e-07  9.212117e-07   \n",
       "2  158.11560  162.62800  180.02370  ...  9.210900e-07  9.210900e-07   \n",
       "3  441.23320  453.82550  502.36950  ...  9.213486e-07  9.213486e-07   \n",
       "4  220.79500  227.09630  251.38790  ...  9.212103e-07  9.212103e-07   \n",
       "\n",
       "           2554          2555          2556          2557          2558  \\\n",
       "0  9.213793e-07  9.213793e-07  9.213793e-07  9.213793e-07  9.213793e-07   \n",
       "1  9.212117e-07  9.212117e-07  9.212117e-07  9.212117e-07  9.212117e-07   \n",
       "2  9.210900e-07  9.210900e-07  9.210900e-07  9.210900e-07  9.210900e-07   \n",
       "3  9.213486e-07  9.213486e-07  9.213486e-07  9.213486e-07  9.213486e-07   \n",
       "4  9.212103e-07  9.212103e-07  9.212103e-07  9.212103e-07  9.212103e-07   \n",
       "\n",
       "           2559          2560          2561  \n",
       "0  9.213793e-07  9.213793e-07  9.213793e-07  \n",
       "1  9.212117e-07  9.212117e-07  9.212117e-07  \n",
       "2  9.210900e-07  9.210900e-07  9.210900e-07  \n",
       "3  9.213486e-07  9.213486e-07  9.213486e-07  \n",
       "4  9.212103e-07  9.212103e-07  9.212103e-07  \n",
       "\n",
       "[5 rows x 2162 columns]"
      ]
     },
     "execution_count": 126,
     "metadata": {},
     "output_type": "execute_result"
    }
   ],
   "source": [
    "e_spectra.head() # show the top of the pandas dataframe containing the E_spectra"
   ]
  },
  {
   "cell_type": "markdown",
   "metadata": {},
   "source": [
    "<h2>Apply the FLD Methods to the First Row of the Spectras to Extract the Fluorescence</h2>"
   ]
  },
  {
   "cell_type": "code",
   "execution_count": 127,
   "metadata": {},
   "outputs": [],
   "source": [
    "# get the first rows of the spectra dataframes\n",
    "# the methods take the spectras a np arrays so convert the object to this type\n",
    "\n",
    "e_first_row = np.asarray(e_spectra.iloc[0])\n",
    "l_first_row = np.asarray(l_spectra.iloc[0])\n",
    "wavelengths = np.arange(400, 2562) # define the wavelengths at which the spectras were sampled"
   ]
  },
  {
   "cell_type": "code",
   "execution_count": 128,
   "metadata": {},
   "outputs": [
    {
     "data": {
      "image/png": "[encoded data removed]",
      "text/plain": [
       "<Figure size 432x288 with 1 Axes>"
      ]
     },
     "metadata": {
      "needs_background": "light"
     },
     "output_type": "display_data"
    },
    {
     "data": {
      "text/plain": [
       "1.5600142462544888"
      ]
     },
     "execution_count": 128,
     "metadata": {},
     "output_type": "execute_result"
    }
   ],
   "source": [
    "# apply the sFLD method and show the plot\n",
    "\n",
    "sFLD(e_first_row / np.pi, l_first_row, wavelengths, fwhm = 1, band = 'A', plot = True)"
   ]
  },
  {
   "cell_type": "markdown",
   "metadata": {},
   "source": [
    "The plot shows the E spectra (Orange) and L spectra (Blue) at the O2A absorption band. The plotted points show the sFLD selection for the spectra values inside and outside of the absorption feature. The value shown is the fluorescence retrieved at the O2A absorption band."
   ]
  },
  {
   "cell_type": "code",
   "execution_count": 129,
   "metadata": {},
   "outputs": [
    {
     "data": {
      "image/png": "[encoded data removed]",
      "text/plain": [
       "<Figure size 432x288 with 1 Axes>"
      ]
     },
     "metadata": {
      "needs_background": "light"
     },
     "output_type": "display_data"
    },
    {
     "data": {
      "text/plain": [
       "0.5353592461426143"
      ]
     },
     "execution_count": 129,
     "metadata": {},
     "output_type": "execute_result"
    }
   ],
   "source": [
    "# apply the 3FLD method and show the plot\n",
    "three_FLD(e_first_row / np.pi, l_first_row, wavelengths, fwhm =1, band = 'A', plot = True)"
   ]
  },
  {
   "cell_type": "markdown",
   "metadata": {},
   "source": [
    "The plot shows the E spectra (Orange) and L spectra (Blue) at the O2A absorption band. The plotted points show the 3FLD selection for the spectra values inside and on the shoulders of the absorption feature. The straight line plotted shows the interpolation between the two shoulders of the absorption feature and the interpolated point plotted shows the spectra value selected \"outside\" of the absorption feature. The value shown is the fluorescence retrieved at the O2A absorption band."
   ]
  },
  {
   "cell_type": "markdown",
   "metadata": {},
   "source": [
    "<h2>Resample the Data at Different FWHM for Sensor Simulation</h2>"
   ]
  },
  {
   "cell_type": "code",
   "execution_count": 130,
   "metadata": {},
   "outputs": [],
   "source": [
    "# generate the spectras and wavelengths resampled at 3.5 nm\n",
    "e_resampled, resampled_wavelengths = resample_spectra(fwhm = 3.5, spectra = e_first_row)\n",
    "l_resampled = resample_spectra(fwhm=3.5, spectra= l_first_row)[0]"
   ]
  },
  {
   "cell_type": "markdown",
   "metadata": {},
   "source": [
    "The 'resample_wavelengths' functions recieves the target fwhm and the desired spectra as inputs. A Gaussian convolution is then applied to the spectra and the function returns the spectra at the desired fwhm as well as the new sampling wavelengths for the spectra."
   ]
  },
  {
   "cell_type": "code",
   "execution_count": 131,
   "metadata": {},
   "outputs": [
    {
     "data": {
      "image/png": "[encoded data removed]",
      "text/plain": [
       "<Figure size 432x288 with 1 Axes>"
      ]
     },
     "metadata": {
      "needs_background": "light"
     },
     "output_type": "display_data"
    },
    {
     "data": {
      "text/plain": [
       "4.149036616843598"
      ]
     },
     "execution_count": 131,
     "metadata": {},
     "output_type": "execute_result"
    }
   ],
   "source": [
    "# now apply the FLD methods to the resampled data\n",
    "\n",
    "sFLD(e_resampled / np.pi, l_resampled, resampled_wavelengths, fwhm = 3.5, band = 'A', plot = True)"
   ]
  },
  {
   "cell_type": "code",
   "execution_count": 132,
   "metadata": {},
   "outputs": [
    {
     "data": {
      "image/png": "[encoded data removed]",
      "text/plain": [
       "<Figure size 432x288 with 1 Axes>"
      ]
     },
     "metadata": {
      "needs_background": "light"
     },
     "output_type": "display_data"
    },
    {
     "data": {
      "text/plain": [
       "0.20516936096442012"
      ]
     },
     "execution_count": 132,
     "metadata": {},
     "output_type": "execute_result"
    }
   ],
   "source": [
    "three_FLD(e_resampled / np.pi, l_resampled, resampled_wavelengths, fwhm = 3.5, band = 'A', plot = True)"
   ]
  },
  {
   "cell_type": "code",
   "execution_count": 133,
   "metadata": {},
   "outputs": [
    {
     "data": {
      "text/plain": [
       "(0.0, 1.0)"
      ]
     },
     "execution_count": 133,
     "metadata": {},
     "output_type": "execute_result"
    },
    {
     "data": {
      "image/png": "[encoded data removed]",
      "text/plain": [
       "<Figure size 432x288 with 1 Axes>"
      ]
     },
     "metadata": {
      "needs_background": "light"
     },
     "output_type": "display_data"
    }
   ],
   "source": [
    "r_app = (l_first_row * np.pi) / e_first_row\n",
    "plt.plot(wavelengths, r_app)\n",
    "plt.xlim(650, 800)\n",
    "plt.ylim(0, 1)"
   ]
  },
  {
   "cell_type": "code",
   "execution_count": 134,
   "metadata": {},
   "outputs": [
    {
     "data": {
      "text/plain": [
       "(0.0, 1.0)"
      ]
     },
     "execution_count": 134,
     "metadata": {},
     "output_type": "execute_result"
    },
    {
     "data": {
      "image/png": "[encoded data removed]",
      "text/plain": [
       "<Figure size 432x288 with 1 Axes>"
      ]
     },
     "metadata": {
      "needs_background": "light"
     },
     "output_type": "display_data"
    }
   ],
   "source": [
    "# define ranges of absorption bands\n",
    "o2b_left_index = find_nearest(wavelengths, 686)\n",
    "o2b_right_index = find_nearest(wavelengths, 688)\n",
    "o2a_left_index = find_nearest(wavelengths, 757)\n",
    "o2a_right_index = find_nearest(wavelengths, 768)\n",
    "# set values in these ranges to NaN\n",
    "r_app[o2b_left_index:o2b_right_index] = np.nan\n",
    "r_app[o2a_left_index:o2a_right_index] = np.nan\n",
    "# plot the resulting graph\n",
    "plt.plot(wavelengths, r_app)\n",
    "plt.xlim(680, 800)\n",
    "plt.ylim(0, 1)"
   ]
  },
  {
   "cell_type": "code",
   "execution_count": 135,
   "metadata": {},
   "outputs": [
    {
     "data": {
      "text/plain": [
       "[<matplotlib.lines.Line2D at 0x11c749eb0>]"
      ]
     },
     "execution_count": 135,
     "metadata": {},
     "output_type": "execute_result"
    },
    {
     "data": {
      "image/png": "[encoded data removed]",
      "text/plain": [
       "<Figure size 432x288 with 1 Axes>"
      ]
     },
     "metadata": {
      "needs_background": "light"
     },
     "output_type": "display_data"
    }
   ],
   "source": [
    "# now define a spline fitting function to fit these undefined ranges\n",
    "from scipy import interpolate\n",
    "\n",
    "def f(x):\n",
    "    x_points = [ 0, 1, 2, 3, 4, 5]\n",
    "    y_points = [12,14,22,39,58,77]\n",
    "\n",
    "    tck = interpolate.splrep(x_points, y_points)\n",
    "    return interpolate.splev(x, tck)\n",
    "\n",
    "x_points = [ 0, 1, 2, 3, 4, 5]\n",
    "y_points = [12,14,22,39,58,77]\n",
    "plt.plot(x_points, y_points)\n",
    "plt.plot(np.arange(2, 8), f(np.arange(2, 8)))"
   ]
  },
  {
   "cell_type": "code",
   "execution_count": 136,
   "metadata": {},
   "outputs": [
    {
     "data": {
      "text/plain": [
       "(0.0, 0.8)"
      ]
     },
     "execution_count": 136,
     "metadata": {},
     "output_type": "execute_result"
    },
    {
     "data": {
      "image/png": "[encoded data removed]",
      "text/plain": [
       "<Figure size 432x288 with 1 Axes>"
      ]
     },
     "metadata": {
      "needs_background": "light"
     },
     "output_type": "display_data"
    }
   ],
   "source": [
    "nan_indices = np.argwhere(np.isnan(r_app)) # get the indices of the nan values\n",
    "o2b_band_indices = nan_indices[:2]\n",
    "o2a_band_indices = nan_indices[2:]\n",
    "\n",
    "# get an array of the x values used for the spline fit\n",
    "x_vals = wavelengths[(int(o2b_band_indices[0]) - 20):int(o2b_band_indices[0])]\n",
    "np.append(x_vals, wavelengths[(int(o2b_band_indices[-1]) + 1):int(o2b_band_indices[-1]) + 20])\n",
    "\n",
    "# get the y vals for the spline fit\n",
    "y_vals = r_app[(int(o2b_band_indices[0]) - 20):int(o2b_band_indices[0])]\n",
    "np.append(y_vals, r_app[(int(o2b_band_indices[-1]) + 1):int(o2b_band_indices[-1]) + 20])\n",
    "\n",
    "# def a new function for the cubic spline fit\n",
    "def cubic_spline(x_vals, y_vals, target_x):\n",
    "    tck = interpolate.splrep(x_vals, y_vals)\n",
    "    return(interpolate.splev(target_x, tck))\n",
    "\n",
    "# perform spline fit\n",
    "\n",
    "inter_ys = cubic_spline(x_vals, y_vals, wavelengths[int(o2b_band_indices[0]) -1 : int(o2b_band_indices[-1]) + 2])\n",
    "\n",
    "plt.plot(wavelengths[int(o2b_band_indices[0]) -1 : int(o2b_band_indices[-1]) + 2], inter_ys)\n",
    "plt.plot(wavelengths, r_app)\n",
    "\n",
    "# repeat for 02a band\n",
    "\n",
    "nan_indices = np.argwhere(np.isnan(r_app)) # get the indices of the nan values\n",
    "o2b_band_indices = nan_indices[:2]\n",
    "o2a_band_indices = nan_indices[2:]\n",
    "\n",
    "# get an array of the x values used for the spline fit\n",
    "x_vals = wavelengths[(int(o2a_band_indices[0]) - 20):int(o2a_band_indices[0])]\n",
    "np.append(x_vals, wavelengths[(int(o2a_band_indices[-1]) + 1):int(o2a_band_indices[-1]) + 20])\n",
    "\n",
    "# get the y vals for the spline fit\n",
    "y_vals = r_app[(int(o2a_band_indices[0]) - 20):int(o2a_band_indices[0])]\n",
    "np.append(y_vals, r_app[(int(o2a_band_indices[-1]) + 1):int(o2a_band_indices[-1]) + 20])\n",
    "\n",
    "# def a new function for the cubic spline fit\n",
    "def cubic_spline(x_vals, y_vals, target_x):\n",
    "    tck = interpolate.splrep(x_vals, y_vals)\n",
    "    return(interpolate.splev(target_x, tck))\n",
    "\n",
    "# perform spline fit\n",
    "\n",
    "inter_ys = cubic_spline(x_vals, y_vals, wavelengths[int(o2a_band_indices[0]) -1 : int(o2a_band_indices[-1]) + 2])\n",
    "\n",
    "plt.plot(wavelengths[int(o2a_band_indices[0]) -1 : int(o2a_band_indices[-1]) + 2], inter_ys)\n",
    "plt.plot(wavelengths, r_app)\n",
    "plt.xlim(680, 800)\n",
    "plt.ylim(0, 0.8)\n"
   ]
  },
  {
   "cell_type": "code",
   "execution_count": 137,
   "metadata": {},
   "outputs": [
    {
     "data": {
      "text/plain": [
       "(0.0, 0.8)"
      ]
     },
     "execution_count": 137,
     "metadata": {},
     "output_type": "execute_result"
    },
    {
     "data": {
      "image/png": "[encoded data removed]",
      "text/plain": [
       "<Figure size 432x288 with 1 Axes>"
      ]
     },
     "metadata": {
      "needs_background": "light"
     },
     "output_type": "display_data"
    }
   ],
   "source": [
    "nan_indices = np.argwhere(np.isnan(r_app)) # get the indices of the nan values\n",
    "o2b_band_indices = nan_indices[:2]\n",
    "o2a_band_indices = nan_indices[2:]\n",
    "\n",
    "# get an array of the x values used for the spline fit\n",
    "x_vals = wavelengths[(int(o2a_band_indices[0]) - 20):int(o2a_band_indices[0])]\n",
    "np.append(x_vals, wavelengths[(int(o2a_band_indices[-1]) + 1):int(o2a_band_indices[-1]) + 20])\n",
    "\n",
    "# get the y vals for the spline fit\n",
    "y_vals = r_app[(int(o2a_band_indices[0]) - 20):int(o2a_band_indices[0])]\n",
    "np.append(y_vals, r_app[(int(o2a_band_indices[-1]) + 1):int(o2a_band_indices[-1]) + 20])\n",
    "\n",
    "# def a new function for the cubic spline fit\n",
    "def cubic_spline(x_vals, y_vals, target_x):\n",
    "    tck = interpolate.splrep(x_vals, y_vals)\n",
    "    return(interpolate.splev(target_x, tck))\n",
    "\n",
    "# perform spline fit\n",
    "\n",
    "inter_ys = cubic_spline(x_vals, y_vals, wavelengths[int(o2a_band_indices[0]) -1 : int(o2a_band_indices[-1]) + 2])\n",
    "\n",
    "plt.plot(wavelengths[int(o2a_band_indices[0]) -1 : int(o2a_band_indices[-1]) + 2], inter_ys)\n",
    "plt.plot(wavelengths, r_app)\n",
    "plt.xlim(720, 800)\n",
    "plt.ylim(0, 0.8)\n",
    "\n"
   ]
  },
  {
   "cell_type": "code",
   "execution_count": 138,
   "metadata": {},
   "outputs": [],
   "source": [
    "def spline_fill_na(wavelengths, spectrum, df = len(wavelengths) / 50):\n",
    "    \"\"\"\n",
    "    Wavelengths -> numpy array of the wavelengths used\n",
    "    spectrum -> spectrum, sampled at given wavelength values, to fit over with NA values in the absorption features\n",
    "    df -> degrees of freedom for the fit (set by default to the trace of the smoother matrix)\n",
    "    \"\"\"\n",
    "    # look over the wavelengths to see where the NA values are\n",
    "    # apply a spline fit over these values to smooth over the gaps\n",
    "    # return a new smoothed spectra with no remaining NA values\n",
    "    \n",
    "    \n",
    "    nan_indices = np.argwhere(np.isnan(spectrum)) # get the indicies of the nan values in the array\n",
    "    \n",
    "    # now locate the different absorption bands\n",
    "    \n",
    "    o2b_band_indices = nan_indices[:2] # indices for nan values in O2B band\n",
    "    o2a_band_indices = nan_indices[2:] # indices for nan values in O2A band\n",
    "    \n",
    "    # now perform a spline fit over these regions\n",
    "    \n",
    "    b_x = wavelengths[o2b_band_indices[0] - 5]\n",
    "    \n",
    "    \n",
    "    \n",
    "    \n",
    "    \n",
    "    \n",
    "    "
   ]
  },
  {
   "cell_type": "markdown",
   "metadata": {},
   "source": [
    "# Implement New iFLD Retrieval Algorithm"
   ]
  },
  {
   "cell_type": "code",
   "execution_count": null,
   "metadata": {},
   "outputs": [],
   "source": [
    "def iFLD(e_spectra, l_spectra, wavelengths, fwhm, band = 'A', plot=True):\n",
    "    \"\"\" Applies the sFLD method at the O2A absorption band to extract the SIF\n",
    "\n",
    "    Parameters\n",
    "    ----------\n",
    "    e_spectra : np array\n",
    "        spectral array containing the incident solar radiance (directional)\n",
    "    l_spectra : np array\n",
    "        spectral array of the upwelling solar radiance\n",
    "    wavelengths : np array\n",
    "        array of the wavelength values\n",
    "    fwhm: float\n",
    "        full width half maximum at which the O2A band was sampled\n",
    "    band: str: 'A' or 'B'\n",
    "        Specifies which absorption band the retrieval algorithm should use, by default 'A' for O2A absorption band\n",
    "    plot : bool, optional\n",
    "        produce plot of values, by default True\n",
    "    \"\"\"\n",
    "    \n",
    "    r_spectra = l_spectra / e_spectra # get array of apparent reflectance values\n",
    "    \n",
    "    # now identify spectral region around the absorption band and remove\n",
    "    \n",
    "    \n",
    "    # o2b band is 686 nm to 697 nm\n",
    "    # o2a band is 759 nm to 770 nm\n",
    "    \n",
    "    # use find nearest function to identify the aborption features in the R spectra\n",
    "    # create a new R_app_smoothed array and replace these values in the new spectra with NA\n",
    "    \n",
    "    # apply the spline fitting function to the R_app_smoothed array to replace the NAs with a spline fit\n",
    "    \n",
    "    # repeat for the E spectra\n",
    "    \n",
    "    # now use sFLD method to identify the values in and out and calc fitting factors\n",
    "    # use these to calc the fluoresence\n",
    "    \n",
    "    \n",
    "    buffer_in = 5 #  range to look over within absorption feature\n",
    "    buffer_out = 1 # range to look over outside of the absorption feature\n",
    "    \n",
    "    if band == 'A':\n",
    "        out_in = 0.7535*fwhm+2.8937 # define amount to skip to shoulder from minimum\n",
    "        wl_in = 760 # standard location of O2A absorption feature\n",
    "    if band == 'B':\n",
    "        out_in = 0.697*fwhm + 1.245 # define amount to skip to shoulder from minimum\n",
    "        wl_in = 687 # standard location of the O2B aboorption band\n",
    "    \n",
    "    # find the points in given ranges\n",
    "    # find the minimum inside of the band for E_in and L_in\n",
    "    e_in_index, e_in = stats_on_spectra(wavelengths, wl_in - buffer_in, wl_in + buffer_in, e_spectra, 'min')\n",
    "    l_in_index, l_in = stats_on_spectra(wavelengths, wl_in - buffer_in, wl_in + buffer_in, l_spectra, 'min')\n",
    "    # find the average of the left shoulder for E_out and L_out\n",
    "    e_out_index, e_out = stats_on_spectra(wavelengths, wl_in - buffer_out - out_in, wl_in - out_in, e_spectra, 'mean')\n",
    "    l_out_index, l_out = stats_on_spectra(wavelengths, wl_in - buffer_out - out_in, wl_in - out_in, l_spectra, 'mean')\n",
    "    \n",
    "    if plot == True: # plot spectra and points at absorption feature\n",
    "        plt.plot(wavelengths, e_spectra, color = 'orange')\n",
    "        plt.plot(wavelengths, l_spectra, color = 'blue')\n",
    "        plt.scatter(wavelengths[e_in_index], e_in, label = 'e_in')\n",
    "        plt.scatter(wavelengths[l_in_index], l_in, label = 'l_in')\n",
    "        plt.scatter(wavelengths[e_out_index], e_out, label = 'e_out')\n",
    "        plt.scatter(wavelengths[l_out_index], l_out, label = 'l_out')\n",
    "        #plt.legend()\n",
    "        plt.xlabel('Wavelength (nm)')\n",
    "        plt.ylabel('Radiance (mW m−2 sr−1 nm−1)')\n",
    "        \n",
    "        # zoom to absorption band\n",
    "        \n",
    "        if band == 'A':\n",
    "            plt.xlim(750, 775)\n",
    "            plt.title('O$_2$A Absorption Band')\n",
    "        \n",
    "        if band == 'B':\n",
    "            plt.xlim(680, 700)\n",
    "            plt.title('O$_2$B Absorption Band')\n",
    "        \n",
    "        plt.show() # show plot\n",
    "    \n",
    "    fluorescence = (e_out*l_in - l_out*e_in) / (e_out - e_in) # calculate fluorescence\n",
    "    \n",
    "    return(fluorescence)"
   ]
  }
 ],
 "metadata": {
  "kernelspec": {
   "display_name": "Python 3",
   "language": "python",
   "name": "python3"
  },
  "language_info": {
   "codemirror_mode": {
    "name": "ipython",
    "version": 3
   },
   "file_extension": ".py",
   "mimetype": "text/x-python",
   "name": "python",
   "nbconvert_exporter": "python",
   "pygments_lexer": "ipython3",
   "version": "3.8.5"
  }
 },
 "nbformat": 4,
 "nbformat_minor": 4
}
